{
 "cells": [
  {
   "cell_type": "markdown",
   "metadata": {},
   "source": [
    "<a rel=\"license\" href=\"http://creativecommons.org/licenses/by-sa/4.0/\"><img alt=\"Creative Commons License\" style=\"border-width:0\" src=\"https://i.creativecommons.org/l/by-sa/4.0/80x15.png\" /></a><div align=\"center\">This work is licensed under a <a rel=\"license\" href=\"http://creativecommons.org/licenses/by-sa/4.0/\">Creative Commons Attribution-ShareAlike 4.0 International License</a>.</div>\n",
    "\n",
    "----"
   ]
  },
  {
   "cell_type": "markdown",
   "metadata": {},
   "source": [
    "# Preparing the environment"
   ]
  },
  {
   "cell_type": "markdown",
   "metadata": {},
   "source": [
    "## Graphics and plotting"
   ]
  },
  {
   "cell_type": "markdown",
   "metadata": {},
   "source": [
    "The following block of code initializes the Python plotting library [matplotlib](http://matplotlib.org/gallery.html) and configures it to show figures embedded in the notebook (as opposed to opening a new window for each figure):"
   ]
  },
  {
   "cell_type": "code",
   "execution_count": 1,
   "metadata": {
    "collapsed": true
   },
   "outputs": [],
   "source": [
    "%matplotlib inline\n",
    "import matplotlib\n",
    "import matplotlib.pyplot as plt"
   ]
  },
  {
   "cell_type": "markdown",
   "metadata": {},
   "source": [
    "Set the default size and style of the plot.  (Plots are styled to [look like R's `ggplot`](http://tonysyu.github.io/mpltools/auto_examples/style/plot_ggplot.html) library.)"
   ]
  },
  {
   "cell_type": "code",
   "execution_count": 2,
   "metadata": {
    "collapsed": true
   },
   "outputs": [],
   "source": [
    "matplotlib.style.use('ggplot')\n",
    "matplotlib.rcParams['figure.figsize'] = (16, 9)"
   ]
  },
  {
   "cell_type": "markdown",
   "metadata": {},
   "source": [
    "## SQL database connection"
   ]
  },
  {
   "cell_type": "markdown",
   "metadata": {},
   "source": [
    "The ESC493 VM comes preinstalled with [Catherine Devlin's `%sql`-magic for IPython][1]; this allows you to run SQL queries from the IPython notebook, and intermix them with Python code.\n",
    "\n",
    "[1]: https://github.com/catherinedevlin/ipython-sql"
   ]
  },
  {
   "cell_type": "markdown",
   "metadata": {},
   "source": [
    "Before we can use the `%sql` syntax, two steps must be taken:\n",
    "\n",
    "* Load the IPython-SQL bridge code"
   ]
  },
  {
   "cell_type": "code",
   "execution_count": 3,
   "metadata": {
    "collapsed": false
   },
   "outputs": [],
   "source": [
    "%load_ext sql"
   ]
  },
  {
   "cell_type": "markdown",
   "metadata": {},
   "source": [
    "* Connect to an actual database; this must be the first `%sql` statement (the `rmurri@/lustre` syntax means \"connect to the PostGreSQL DB named `lustre` running on *this* host as user `rmurri`\" -- of course change `rmurri` to *your* user name):"
   ]
  },
  {
   "cell_type": "code",
   "execution_count": 4,
   "metadata": {
    "collapsed": false
   },
   "outputs": [
    {
     "data": {
      "text/plain": [
       "u'Connected: rmurri@lustre'"
      ]
     },
     "execution_count": 4,
     "metadata": {},
     "output_type": "execute_result"
    }
   ],
   "source": [
    "%sql postgresql://rmurri@/lustre\n"
   ]
  },
  {
   "cell_type": "markdown",
   "metadata": {},
   "source": [
    "Now you can run 1-line SQL queries by prefixing them with `%sql` or multi-line ones with `%%sql`"
   ]
  },
  {
   "cell_type": "markdown",
   "metadata": {},
   "source": [
    "# Exploring the dataset"
   ]
  },
  {
   "cell_type": "code",
   "execution_count": 5,
   "metadata": {
    "collapsed": false,
    "scrolled": true
   },
   "outputs": [
    {
     "name": "stdout",
     "output_type": "stream",
     "text": [
      "5 rows affected.\n"
     ]
    },
    {
     "data": {
      "text/html": [
       "<table>\n",
       "    <tr>\n",
       "        <th>usr</th>\n",
       "        <th>grp</th>\n",
       "        <th>atime</th>\n",
       "        <th>mtime</th>\n",
       "        <th>blksize</th>\n",
       "        <th>size</th>\n",
       "        <th>path</th>\n",
       "    </tr>\n",
       "    <tr>\n",
       "        <td>us321</td>\n",
       "        <td>econ</td>\n",
       "        <td>1363100458</td>\n",
       "        <td>1363100620</td>\n",
       "        <td>4</td>\n",
       "        <td>342</td>\n",
       "        <td>/scratch/econ/H2/preprocessing/long.txt</td>\n",
       "    </tr>\n",
       "    <tr>\n",
       "        <td>us321</td>\n",
       "        <td>econ</td>\n",
       "        <td>1363100458</td>\n",
       "        <td>1363100620</td>\n",
       "        <td>4</td>\n",
       "        <td>348</td>\n",
       "        <td>/scratch/econ/H2/preprocessing/short.txt</td>\n",
       "    </tr>\n",
       "    <tr>\n",
       "        <td>us321</td>\n",
       "        <td>econ</td>\n",
       "        <td>1363100458</td>\n",
       "        <td>1363100620</td>\n",
       "        <td>4</td>\n",
       "        <td>696</td>\n",
       "        <td>/scratch/econ/H2/preprocessing/slist.txt</td>\n",
       "    </tr>\n",
       "    <tr>\n",
       "        <td>us321</td>\n",
       "        <td>econ</td>\n",
       "        <td>1363174233</td>\n",
       "        <td>1363174233</td>\n",
       "        <td>16</td>\n",
       "        <td>16135</td>\n",
       "        <td>/scratch/econ/H2/preprocessing/SNS_SSC_008_batch.mat</td>\n",
       "    </tr>\n",
       "    <tr>\n",
       "        <td>us321</td>\n",
       "        <td>econ</td>\n",
       "        <td>1363174233</td>\n",
       "        <td>1363174233</td>\n",
       "        <td>16</td>\n",
       "        <td>16142</td>\n",
       "        <td>/scratch/econ/H2/preprocessing/SNS_SSC_009_batch.mat</td>\n",
       "    </tr>\n",
       "</table>"
      ],
      "text/plain": [
       "[(u'us321', u'econ', 1363100458, 1363100620, 4, 342L, u'/scratch/econ/H2/preprocessing/long.txt'),\n",
       " (u'us321', u'econ', 1363100458, 1363100620, 4, 348L, u'/scratch/econ/H2/preprocessing/short.txt'),\n",
       " (u'us321', u'econ', 1363100458, 1363100620, 4, 696L, u'/scratch/econ/H2/preprocessing/slist.txt'),\n",
       " (u'us321', u'econ', 1363174233, 1363174233, 16, 16135L, u'/scratch/econ/H2/preprocessing/SNS_SSC_008_batch.mat'),\n",
       " (u'us321', u'econ', 1363174233, 1363174233, 16, 16142L, u'/scratch/econ/H2/preprocessing/SNS_SSC_009_batch.mat')]"
      ]
     },
     "execution_count": 5,
     "metadata": {},
     "output_type": "execute_result"
    }
   ],
   "source": [
    "%sql select * from lustre limit 5;"
   ]
  },
  {
   "cell_type": "markdown",
   "metadata": {},
   "source": [
    "The `%sql` \"magic\" can also be used as an expression: it returns the result table as a Python `list` of tuples:"
   ]
  },
  {
   "cell_type": "code",
   "execution_count": 6,
   "metadata": {
    "collapsed": false
   },
   "outputs": [
    {
     "name": "stdout",
     "output_type": "stream",
     "text": [
      "100 rows affected.\n"
     ]
    }
   ],
   "source": [
    "result = %sql select size, count(path) from lustre group by size order by size asc limit 100;"
   ]
  },
  {
   "cell_type": "markdown",
   "metadata": {},
   "source": [
    "Now the `result` list can be used in code as if we had defined it in Python directly:"
   ]
  },
  {
   "cell_type": "code",
   "execution_count": 7,
   "metadata": {
    "collapsed": false
   },
   "outputs": [
    {
     "data": {
      "text/plain": [
       "[(0L, 252929L), (1L, 334L), (2L, 379L), (3L, 100L), (4L, 753L)]"
      ]
     },
     "execution_count": 7,
     "metadata": {},
     "output_type": "execute_result"
    }
   ],
   "source": [
    "result[:5]"
   ]
  },
  {
   "cell_type": "markdown",
   "metadata": {},
   "source": [
    "## Plotting results\n",
    "\n",
    "In order to plot results, we need to have separate lists/arrays for the X-axis values and the corresponding Y-axis values.\n",
    "\n",
    "\n",
    "Python's `zip` function is used to split the result table into independent lists (all first elements, all second elements):"
   ]
  },
  {
   "cell_type": "code",
   "execution_count": 8,
   "metadata": {
    "collapsed": true
   },
   "outputs": [],
   "source": [
    "sizes, occurrences = zip(*result)"
   ]
  },
  {
   "cell_type": "code",
   "execution_count": 9,
   "metadata": {
    "collapsed": false
   },
   "outputs": [
    {
     "data": {
      "text/plain": [
       "((0L, 1L, 2L, 3L, 4L), (252929L, 334L, 379L, 100L, 753L))"
      ]
     },
     "execution_count": 9,
     "metadata": {},
     "output_type": "execute_result"
    }
   ],
   "source": [
    "sizes[:5], occurrences[:5]"
   ]
  },
  {
   "cell_type": "markdown",
   "metadata": {},
   "source": [
    "The `plt.plot()` function is used to make a line plot; here we show how to place \"sizes\" on the X-axis and \"occurrences\" on the Y-axis:"
   ]
  },
  {
   "cell_type": "code",
   "execution_count": 10,
   "metadata": {
    "collapsed": false
   },
   "outputs": [
    {
     "data": {
      "text/plain": [
       "[<matplotlib.lines.Line2D at 0x7f2db29b4b50>]"
      ]
     },
     "execution_count": 10,
     "metadata": {},
     "output_type": "execute_result"
    },
    {
     "data": {
      "image/png": "[encoded data removed]",
      "text/plain": [
       "<matplotlib.figure.Figure at 0x7f2dba4ba910>"
      ]
     },
     "metadata": {},
     "output_type": "display_data"
    }
   ],
   "source": [
    "plt.plot(sizes, occurrences)"
   ]
  }
 ],
 "metadata": {
  "kernelspec": {
   "display_name": "Python 2",
   "language": "python",
   "name": "python2"
  },
  "language_info": {
   "codemirror_mode": {
    "name": "ipython",
    "version": 2
   },
   "file_extension": ".py",
   "mimetype": "text/x-python",
   "name": "python",
   "nbconvert_exporter": "python",
   "pygments_lexer": "ipython2",
   "version": "2.7.13"
  }
 },
 "nbformat": 4,
 "nbformat_minor": 0
}
