{
 "cells": [
  {
   "cell_type": "markdown",
   "metadata": {},
   "source": [
    "<a rel=\"license\" href=\"http://creativecommons.org/licenses/by-sa/4.0/\"><img alt=\"Creative Commons License\" style=\"border-width:0\" src=\"https://i.creativecommons.org/l/by-sa/4.0/80x15.png\" /></a><div align=\"center\">This work is licensed under a <a rel=\"license\" href=\"http://creativecommons.org/licenses/by-sa/4.0/\">Creative Commons Attribution-ShareAlike 4.0 International License</a>.</div>\n",
    "\n",
    "----"
   ]
  },
  {
   "cell_type": "markdown",
   "metadata": {},
   "source": [
    "The ESC403 cluster comes preinstalled with [Catherine Devlin's `%sql`-magic for IPython][1]; this allows you to run SQL queries from the IPython notebook, and intermix them with Python code.\n",
    "\n",
    "[1]: https://github.com/catherinedevlin/ipython-sql"
   ]
  },
  {
   "cell_type": "markdown",
   "metadata": {},
   "source": [
    "Before we can use the `%sql` syntax, two steps must be taken:\n",
    "\n",
    "* Load the IPython-SQL bridge code"
   ]
  },
  {
   "cell_type": "code",
   "execution_count": 1,
   "metadata": {
    "collapsed": false
   },
   "outputs": [],
   "source": [
    "%load_ext sql"
   ]
  },
  {
   "cell_type": "markdown",
   "metadata": {},
   "source": [
    "* Connect to an actual database; this must be the first `%sql` statement (the `rmurri@/lustre` syntax is correct and means \"connect to the PostGreSQL DB named `lustre` running on *this* host as user `rmurri`\" -- of course, please replace `rmurri` with your user name!):"
   ]
  },
  {
   "cell_type": "code",
   "execution_count": 2,
   "metadata": {
    "collapsed": false
   },
   "outputs": [
    {
     "data": {
      "text/plain": [
       "u'Connected: rmurri@lustre'"
      ]
     },
     "execution_count": 2,
     "metadata": {},
     "output_type": "execute_result"
    }
   ],
   "source": [
    "%sql postgresql://rmurri@/lustre"
   ]
  },
  {
   "cell_type": "markdown",
   "metadata": {},
   "source": [
    "Now you can run 1-line SQL queries by prefixing them with `%sql`:"
   ]
  },
  {
   "cell_type": "code",
   "execution_count": 3,
   "metadata": {
    "collapsed": false,
    "scrolled": true
   },
   "outputs": [
    {
     "name": "stdout",
     "output_type": "stream",
     "text": [
      "5 rows affected.\n"
     ]
    },
    {
     "data": {
      "text/html": [
       "<table>\n",
       "    <tr>\n",
       "        <th>usr</th>\n",
       "        <th>grp</th>\n",
       "        <th>atime</th>\n",
       "        <th>mtime</th>\n",
       "        <th>blksize</th>\n",
       "        <th>size</th>\n",
       "        <th>path</th>\n",
       "    </tr>\n",
       "    <tr>\n",
       "        <td>us321</td>\n",
       "        <td>econ</td>\n",
       "        <td>1363100458</td>\n",
       "        <td>1363100620</td>\n",
       "        <td>4</td>\n",
       "        <td>342</td>\n",
       "        <td>/scratch/econ/H2/preprocessing/long.txt</td>\n",
       "    </tr>\n",
       "    <tr>\n",
       "        <td>us321</td>\n",
       "        <td>econ</td>\n",
       "        <td>1363100458</td>\n",
       "        <td>1363100620</td>\n",
       "        <td>4</td>\n",
       "        <td>348</td>\n",
       "        <td>/scratch/econ/H2/preprocessing/short.txt</td>\n",
       "    </tr>\n",
       "    <tr>\n",
       "        <td>us321</td>\n",
       "        <td>econ</td>\n",
       "        <td>1363100458</td>\n",
       "        <td>1363100620</td>\n",
       "        <td>4</td>\n",
       "        <td>696</td>\n",
       "        <td>/scratch/econ/H2/preprocessing/slist.txt</td>\n",
       "    </tr>\n",
       "    <tr>\n",
       "        <td>us321</td>\n",
       "        <td>econ</td>\n",
       "        <td>1363174233</td>\n",
       "        <td>1363174233</td>\n",
       "        <td>16</td>\n",
       "        <td>16135</td>\n",
       "        <td>/scratch/econ/H2/preprocessing/SNS_SSC_008_batch.mat</td>\n",
       "    </tr>\n",
       "    <tr>\n",
       "        <td>us321</td>\n",
       "        <td>econ</td>\n",
       "        <td>1363174233</td>\n",
       "        <td>1363174233</td>\n",
       "        <td>16</td>\n",
       "        <td>16142</td>\n",
       "        <td>/scratch/econ/H2/preprocessing/SNS_SSC_009_batch.mat</td>\n",
       "    </tr>\n",
       "</table>"
      ],
      "text/plain": [
       "[(u'us321', u'econ', 1363100458, 1363100620, 4, 342L, u'/scratch/econ/H2/preprocessing/long.txt'),\n",
       " (u'us321', u'econ', 1363100458, 1363100620, 4, 348L, u'/scratch/econ/H2/preprocessing/short.txt'),\n",
       " (u'us321', u'econ', 1363100458, 1363100620, 4, 696L, u'/scratch/econ/H2/preprocessing/slist.txt'),\n",
       " (u'us321', u'econ', 1363174233, 1363174233, 16, 16135L, u'/scratch/econ/H2/preprocessing/SNS_SSC_008_batch.mat'),\n",
       " (u'us321', u'econ', 1363174233, 1363174233, 16, 16142L, u'/scratch/econ/H2/preprocessing/SNS_SSC_009_batch.mat')]"
      ]
     },
     "execution_count": 3,
     "metadata": {},
     "output_type": "execute_result"
    }
   ],
   "source": [
    "%sql select * from lustre limit 5;"
   ]
  },
  {
   "cell_type": "markdown",
   "metadata": {},
   "source": [
    "It is also possible to run multi-line (or multiple) SQL queries by using the `%%sql` syntax instead.  Note that in this case the SQL instructions *must not* be on the same line as the `%%sql` magic marker:"
   ]
  },
  {
   "cell_type": "code",
   "execution_count": 4,
   "metadata": {
    "collapsed": false
   },
   "outputs": [
    {
     "name": "stdout",
     "output_type": "stream",
     "text": [
      "1 rows affected.\n",
      "1 rows affected.\n",
      "1 rows affected.\n"
     ]
    },
    {
     "data": {
      "text/html": [
       "<table>\n",
       "    <tr>\n",
       "        <th>count</th>\n",
       "    </tr>\n",
       "    <tr>\n",
       "        <td>30356776</td>\n",
       "    </tr>\n",
       "</table>"
      ],
      "text/plain": [
       "[(30356776L,)]"
      ]
     },
     "execution_count": 4,
     "metadata": {},
     "output_type": "execute_result"
    }
   ],
   "source": [
    "%%sql\n",
    "select count(*) from lustre;\n",
    "select distinct count(usr) from lustre;\n",
    "select distinct count(grp) from lustre;"
   ]
  },
  {
   "cell_type": "markdown",
   "metadata": {},
   "source": [
    "*(What limitation of the IPython-SQL bridge does the above set of queries show? ;-))*"
   ]
  }
 ],
 "metadata": {
  "kernelspec": {
   "display_name": "Python 2",
   "language": "python",
   "name": "python2"
  },
  "language_info": {
   "codemirror_mode": {
    "name": "ipython",
    "version": 2
   },
   "file_extension": ".py",
   "mimetype": "text/x-python",
   "name": "python",
   "nbconvert_exporter": "python",
   "pygments_lexer": "ipython2",
   "version": "2.7.13"
  }
 },
 "nbformat": 4,
 "nbformat_minor": 0
}
