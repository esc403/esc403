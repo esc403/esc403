{
 "cells": [
  {
   "cell_type": "markdown",
   "metadata": {},
   "source": [
    "<a rel=\"license\" href=\"http://creativecommons.org/licenses/by-sa/4.0/\"><img alt=\"Creative Commons License\" style=\"border-width:0\" src=\"https://i.creativecommons.org/l/by-sa/4.0/80x15.png\" /></a><div align=\"center\">This work is licensed under a <a rel=\"license\" href=\"http://creativecommons.org/licenses/by-sa/4.0/\">Creative Commons Attribution-ShareAlike 4.0 International License</a>.</div>\n",
    "\n",
    "----"
   ]
  },
  {
   "cell_type": "markdown",
   "metadata": {},
   "source": [
    "The ESC403 cluster comes with [Catherine Devlin's `%sql`-magic for IPython][1]; this allows you to run SQL queries from the IPython notebook, and intermix them with Python code.\n",
    "\n",
    "[1]: https://github.com/catherinedevlin/ipython-sql"
   ]
  },
  {
   "cell_type": "markdown",
   "metadata": {},
   "source": [
    "Before we can use the `%sql` syntax, two steps must be taken:\n",
    "\n",
    "* Load the IPython-SQL bridge code"
   ]
  },
  {
   "cell_type": "code",
   "execution_count": 1,
   "metadata": {
    "collapsed": false
   },
   "outputs": [],
   "source": [
    "%load_ext sql\n"
   ]
  },
  {
   "cell_type": "markdown",
   "metadata": {},
   "source": [
    "* Connect to an actual database; this must be the first `%sql` statement (the funny `rmurri@/lustre` syntax is correct and means \"connect to the PostGreSQL DB named `lustre` running on *this* host as user `rmurri`\"  -- please replace `rmurri` with your local user name):"
   ]
  },
  {
   "cell_type": "code",
   "execution_count": 2,
   "metadata": {
    "collapsed": false
   },
   "outputs": [
    {
     "data": {
      "text/plain": [
       "u'Connected: rmurri@lustre'"
      ]
     },
     "execution_count": 2,
     "metadata": {},
     "output_type": "execute_result"
    }
   ],
   "source": [
    "%sql postgresql://rmurri@/lustre\n"
   ]
  },
  {
   "cell_type": "markdown",
   "metadata": {},
   "source": [
    "Now you can run 1-line SQL queries by prefixing them with `%sql`:"
   ]
  },
  {
   "cell_type": "code",
   "execution_count": 3,
   "metadata": {
    "collapsed": false,
    "scrolled": true
   },
   "outputs": [
    {
     "name": "stdout",
     "output_type": "stream",
     "text": [
      "5 rows affected.\n"
     ]
    },
    {
     "data": {
      "text/html": [
       "<table>\n",
       "    <tr>\n",
       "        <th>usr</th>\n",
       "        <th>grp</th>\n",
       "        <th>atime</th>\n",
       "        <th>mtime</th>\n",
       "        <th>blksize</th>\n",
       "        <th>size</th>\n",
       "        <th>path</th>\n",
       "    </tr>\n",
       "    <tr>\n",
       "        <td>usr296</td>\n",
       "        <td>i5105</td>\n",
       "        <td>1390288156</td>\n",
       "        <td>1390288310</td>\n",
       "        <td>1212</td>\n",
       "        <td>1240449</td>\n",
       "        <td>/scratch/bioc/usr296/actin/protein_reid-unbound_5/distances/wordom_dist_reidi_res_10.xvg</td>\n",
       "    </tr>\n",
       "    <tr>\n",
       "        <td>usr296</td>\n",
       "        <td>i5105</td>\n",
       "        <td>1390290448</td>\n",
       "        <td>1390290602</td>\n",
       "        <td>1212</td>\n",
       "        <td>1240449</td>\n",
       "        <td>/scratch/bioc/usr296/actin/protein_reid-unbound_5/distances/wordom_dist_reidi_ring_res_121.xvg</td>\n",
       "    </tr>\n",
       "    <tr>\n",
       "        <td>usr296</td>\n",
       "        <td>i5105</td>\n",
       "        <td>1390292628</td>\n",
       "        <td>1390292786</td>\n",
       "        <td>1212</td>\n",
       "        <td>1240449</td>\n",
       "        <td>/scratch/bioc/usr296/actin/protein_reid-unbound_5/distances/wordom_dist_reidi_ring_res_233.xvg</td>\n",
       "    </tr>\n",
       "    <tr>\n",
       "        <td>usr296</td>\n",
       "        <td>i5105</td>\n",
       "        <td>1390288351</td>\n",
       "        <td>1390288509</td>\n",
       "        <td>1212</td>\n",
       "        <td>1240449</td>\n",
       "        <td>/scratch/bioc/usr296/actin/protein_reid-unbound_5/distances/wordom_dist_reidi_tail_res_13.xvg</td>\n",
       "    </tr>\n",
       "    <tr>\n",
       "        <td>usr296</td>\n",
       "        <td>i5105</td>\n",
       "        <td>1390292817</td>\n",
       "        <td>1390292971</td>\n",
       "        <td>1212</td>\n",
       "        <td>1240449</td>\n",
       "        <td>/scratch/bioc/usr296/actin/protein_reid-unbound_5/distances/wordom_dist_reidi_res_252.xvg</td>\n",
       "    </tr>\n",
       "</table>"
      ],
      "text/plain": [
       "[(u'usr296', u'i5105', 1390288156, 1390288310, 1212, 1240449L, u'/scratch/bioc/usr296/actin/protein_reid-unbound_5/distances/wordom_dist_reidi_res_10.xvg'),\n",
       " (u'usr296', u'i5105', 1390290448, 1390290602, 1212, 1240449L, u'/scratch/bioc/usr296/actin/protein_reid-unbound_5/distances/wordom_dist_reidi_ring_res_121.xvg'),\n",
       " (u'usr296', u'i5105', 1390292628, 1390292786, 1212, 1240449L, u'/scratch/bioc/usr296/actin/protein_reid-unbound_5/distances/wordom_dist_reidi_ring_res_233.xvg'),\n",
       " (u'usr296', u'i5105', 1390288351, 1390288509, 1212, 1240449L, u'/scratch/bioc/usr296/actin/protein_reid-unbound_5/distances/wordom_dist_reidi_tail_res_13.xvg'),\n",
       " (u'usr296', u'i5105', 1390292817, 1390292971, 1212, 1240449L, u'/scratch/bioc/usr296/actin/protein_reid-unbound_5/distances/wordom_dist_reidi_res_252.xvg')]"
      ]
     },
     "execution_count": 3,
     "metadata": {},
     "output_type": "execute_result"
    }
   ],
   "source": [
    "%sql select * from lustre_sample limit 5;"
   ]
  },
  {
   "cell_type": "markdown",
   "metadata": {},
   "source": [
    "It is also possible to run multi-line (or multiple) SQL queries by using the `%%sql` syntax instead.  Note that in this case the SQL instructions *must not* be on the same line as the `%%sql` magic marker:"
   ]
  },
  {
   "cell_type": "code",
   "execution_count": null,
   "metadata": {
    "collapsed": false
   },
   "outputs": [],
   "source": [
    "%%sql\n",
    "select count(*) from lustre;\n",
    "select distinct count(usr) from lustre;\n",
    "select distinct count(grp) from lustre;"
   ]
  },
  {
   "cell_type": "markdown",
   "metadata": {},
   "source": [
    "The `%%time` magic prints the time taken to evaluate a cell (which comes handy when doing performance comparisons):"
   ]
  },
  {
   "cell_type": "code",
   "execution_count": null,
   "metadata": {
    "collapsed": false
   },
   "outputs": [],
   "source": [
    "%%time\n",
    "\n",
    "import time\n",
    "time.sleep(5)"
   ]
  },
  {
   "cell_type": "markdown",
   "metadata": {},
   "source": [
    "----"
   ]
  },
  {
   "cell_type": "markdown",
   "metadata": {},
   "source": [
    "**Note:** to keep running times low, we will be using table `lustre_sample` throughout, which contains a sample of 5% the rows of the original `lustre` table."
   ]
  },
  {
   "cell_type": "markdown",
   "metadata": {},
   "source": [
    "## 1. Is it possible to convert fields atime and mtime to PostgreSQL's TIMESTAMP type?"
   ]
  },
  {
   "cell_type": "markdown",
   "metadata": {},
   "source": [
    "Yes, it *is* possible to alter a SQL table definition after the table has been created.  Look at the documentation for the [ALTER TABLE](https://www.tutorialspoint.com/sql/sql-alter-command.htm) statement.\n",
    "\n",
    "We shall break this down into steps: (1) create a new table, (2) populate it, then (3) alter the definition and (4) fill the new column with values."
   ]
  },
  {
   "cell_type": "code",
   "execution_count": 5,
   "metadata": {
    "collapsed": false
   },
   "outputs": [
    {
     "name": "stdout",
     "output_type": "stream",
     "text": [
      "Done.\n"
     ]
    },
    {
     "data": {
      "text/plain": [
       "[]"
      ]
     },
     "execution_count": 5,
     "metadata": {},
     "output_type": "execute_result"
    }
   ],
   "source": [
    "# (1) create a new table and populate it\n",
    "%sql create temporary table files(path VARCHAR(255), atime INT)"
   ]
  },
  {
   "cell_type": "code",
   "execution_count": 6,
   "metadata": {
    "collapsed": false
   },
   "outputs": [
    {
     "name": "stdout",
     "output_type": "stream",
     "text": [
      "1519053 rows affected.\n"
     ]
    },
    {
     "data": {
      "text/plain": [
       "[]"
      ]
     },
     "execution_count": 6,
     "metadata": {},
     "output_type": "execute_result"
    }
   ],
   "source": [
    "# (2) populate it with a copy of the data\n",
    "%sql insert into files(path, atime) select path, atime from lustre_sample"
   ]
  },
  {
   "cell_type": "code",
   "execution_count": 9,
   "metadata": {
    "collapsed": false
   },
   "outputs": [
    {
     "name": "stdout",
     "output_type": "stream",
     "text": [
      "Done.\n"
     ]
    },
    {
     "data": {
      "text/plain": [
       "[]"
      ]
     },
     "execution_count": 9,
     "metadata": {},
     "output_type": "execute_result"
    }
   ],
   "source": [
    "# (3) alter table definition: add new columns for \"access time\" using the TIMESTAMP type\n",
    "%sql alter table files add access_time TIMESTAMP"
   ]
  },
  {
   "cell_type": "code",
   "execution_count": 11,
   "metadata": {
    "collapsed": false
   },
   "outputs": [
    {
     "name": "stdout",
     "output_type": "stream",
     "text": [
      "1519053 rows affected.\n"
     ]
    },
    {
     "data": {
      "text/plain": [
       "[]"
      ]
     },
     "execution_count": 11,
     "metadata": {},
     "output_type": "execute_result"
    }
   ],
   "source": [
    "# (4) populate additional column\n",
    "%sql update files set access_time = to_timestamp(atime)"
   ]
  },
  {
   "cell_type": "markdown",
   "metadata": {},
   "source": [
    "Show some data from the table we created::"
   ]
  },
  {
   "cell_type": "code",
   "execution_count": 15,
   "metadata": {
    "collapsed": false
   },
   "outputs": [
    {
     "name": "stdout",
     "output_type": "stream",
     "text": [
      "3 rows affected.\n"
     ]
    },
    {
     "data": {
      "text/html": [
       "<table>\n",
       "    <tr>\n",
       "        <th>path</th>\n",
       "        <th>atime</th>\n",
       "        <th>access_time</th>\n",
       "    </tr>\n",
       "    <tr>\n",
       "        <td>/scratch/bioc/usr25/intel/ism/bin/installwrapper.sh</td>\n",
       "        <td>1367575781</td>\n",
       "        <td>2013-05-03 10:09:41</td>\n",
       "    </tr>\n",
       "    <tr>\n",
       "        <td>/scratch/pci/usr394/cp2k/cp2k/src/sort_m.f90</td>\n",
       "        <td>1392886784</td>\n",
       "        <td>2014-02-20 08:59:44</td>\n",
       "    </tr>\n",
       "    <tr>\n",
       "        <td>/scratch/pci/usr360/test/BASIS_MOLOPT</td>\n",
       "        <td>1351174511</td>\n",
       "        <td>2012-10-25 14:15:11</td>\n",
       "    </tr>\n",
       "</table>"
      ],
      "text/plain": [
       "[(u'/scratch/bioc/usr25/intel/ism/bin/installwrapper.sh', 1367575781, datetime.datetime(2013, 5, 3, 10, 9, 41)),\n",
       " (u'/scratch/pci/usr394/cp2k/cp2k/src/sort_m.f90', 1392886784, datetime.datetime(2014, 2, 20, 8, 59, 44)),\n",
       " (u'/scratch/pci/usr360/test/BASIS_MOLOPT', 1351174511, datetime.datetime(2012, 10, 25, 14, 15, 11))]"
      ]
     },
     "execution_count": 15,
     "metadata": {},
     "output_type": "execute_result"
    }
   ],
   "source": [
    "%sql select * from files limit 3"
   ]
  },
  {
   "cell_type": "markdown",
   "metadata": {},
   "source": [
    "## 2. Can you count the number of files in a given directory?"
   ]
  },
  {
   "cell_type": "markdown",
   "metadata": {},
   "source": [
    "Yes, using SQL's `like` string matching operator, which allows any\n",
    "part of a string to be matched by the `%` character (i.e., just like\n",
    "`*` for file names)::"
   ]
  },
  {
   "cell_type": "code",
   "execution_count": 14,
   "metadata": {
    "collapsed": false
   },
   "outputs": [
    {
     "name": "stdout",
     "output_type": "stream",
     "text": [
      "1 rows affected.\n"
     ]
    },
    {
     "data": {
      "text/html": [
       "<table>\n",
       "    <tr>\n",
       "        <th>count</th>\n",
       "    </tr>\n",
       "    <tr>\n",
       "        <td>132</td>\n",
       "    </tr>\n",
       "</table>"
      ],
      "text/plain": [
       "[(132L,)]"
      ]
     },
     "execution_count": 14,
     "metadata": {},
     "output_type": "execute_result"
    }
   ],
   "source": [
    "%sql SELECT count(path) FROM lustre_sample WHERE path LIKE '/scratch/econ/H2/%'"
   ]
  },
  {
   "cell_type": "markdown",
   "metadata": {},
   "source": [
    "## 3. Can you find the directory that holds the largest number of files? "
   ]
  },
  {
   "cell_type": "markdown",
   "metadata": {},
   "source": [
    "Let's just sketch a general plan:\n",
    "- Split the `path` column into separate columns *directory name* and *file name*,\n",
    "- then group by *directory name*\n",
    "and count.\n",
    "\n",
    "This is a simple solution, however:\n",
    "\n",
    "* It relies on the availability of functions to split directory from file name, which may not be available in all SQL engines:\n",
    "\n",
    "        %sql SELECT DIRNAME(path) AS dirpath, COUNT(FILENAME(path)) FROM lustre GROUP BY dirpath\n",
    "\n",
    "But more importantly:\n",
    "\n",
    "* Only allows counting the number of immediate \"children\" of a directory.  If one wishes to count the number of files in a given directory *tree*, then this is note easy to do with SQL. See <http://en.wikipedia.org/wiki/Nested_set_model> for more information.  It is, however, a straightforward exercise with Map/Reduce."
   ]
  },
  {
   "cell_type": "markdown",
   "metadata": {},
   "source": [
    "## 4. Can you find the directory tree that holds the largest number of files?"
   ]
  },
  {
   "cell_type": "markdown",
   "metadata": {
    "collapsed": true
   },
   "source": [
    "No. We would need to find another representation for the path names, that allows recovering directory components up to any depth.  The split dirname/basename suggested above only allows counting the number of immediate \"children\" of a directory.  If one wishes to count the number of files in a given directory *tree*, then this is note easy to do with SQL. See <http://en.wikipedia.org/wiki/Nested_set_model> for more information.  \n",
    "\n",
    "This is, however, a straightforward exercise with Map/Reduce."
   ]
  }
 ],
 "metadata": {
  "kernelspec": {
   "display_name": "Python 2",
   "language": "python",
   "name": "python2"
  },
  "language_info": {
   "codemirror_mode": {
    "name": "ipython",
    "version": 2
   },
   "file_extension": ".py",
   "mimetype": "text/x-python",
   "name": "python",
   "nbconvert_exporter": "python",
   "pygments_lexer": "ipython2",
   "version": "2.7.13"
  }
 },
 "nbformat": 4,
 "nbformat_minor": 0
}
