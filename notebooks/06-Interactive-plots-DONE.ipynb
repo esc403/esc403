{
 "cells": [
  {
   "cell_type": "markdown",
   "metadata": {},
   "source": [
    "<a rel=\"license\" href=\"http://creativecommons.org/licenses/by-sa/4.0/\"><img alt=\"Creative Commons License\" style=\"border-width:0\" src=\"https://i.creativecommons.org/l/by-sa/4.0/80x15.png\" /></a><div align=\"center\">This work is licensed under a <a rel=\"license\" href=\"http://creativecommons.org/licenses/by-sa/4.0/\">Creative Commons Attribution-ShareAlike 4.0 International License</a>.</div>\n",
    "\n",
    "----"
   ]
  },
  {
   "cell_type": "markdown",
   "metadata": {},
   "source": [
    "# Preparing the environment"
   ]
  },
  {
   "cell_type": "markdown",
   "metadata": {},
   "source": [
    "## Graphics and plotting"
   ]
  },
  {
   "cell_type": "markdown",
   "metadata": {},
   "source": [
    "The following block of code initializes the Python plotting library [matplotlib](http://matplotlib.org/gallery.html) and configures it to show figures embedded in the notebook (as opposed to opening a new window for each figure):"
   ]
  },
  {
   "cell_type": "code",
   "execution_count": 1,
   "metadata": {
    "collapsed": true
   },
   "outputs": [],
   "source": [
    "%matplotlib inline\n",
    "\n",
    "import matplotlib\n",
    "import matplotlib.pyplot as plt"
   ]
  },
  {
   "cell_type": "markdown",
   "metadata": {},
   "source": [
    "The Seaborn library provides easy-to-use plotting functions for common plot types, and better default visual styles."
   ]
  },
  {
   "cell_type": "code",
   "execution_count": 2,
   "metadata": {
    "collapsed": true
   },
   "outputs": [],
   "source": [
    "import seaborn as sea"
   ]
  },
  {
   "cell_type": "markdown",
   "metadata": {},
   "source": [
    "Set the default size and style of the plot.  (Plots are styled to [look like R's `ggplot`](http://tonysyu.github.io/mpltools/auto_examples/style/plot_ggplot.html) library.)"
   ]
  },
  {
   "cell_type": "code",
   "execution_count": 3,
   "metadata": {
    "collapsed": true
   },
   "outputs": [],
   "source": [
    "matplotlib.rcParams['figure.figsize'] = (10, 7)\n",
    "\n",
    "sea.set_style('dark')"
   ]
  },
  {
   "cell_type": "markdown",
   "metadata": {},
   "source": [
    "Also make the NumPy library available (without it, some features of Matplotlib and -especially- Seaborn) will *not* work:"
   ]
  },
  {
   "cell_type": "code",
   "execution_count": 4,
   "metadata": {
    "collapsed": true
   },
   "outputs": [],
   "source": [
    "import numpy as np"
   ]
  },
  {
   "cell_type": "markdown",
   "metadata": {},
   "source": [
    "A \"colormap\" is a mapping from a range of numbers onto a set of colors.  The `cmocean` Python package contains some predefined colormaps for plotting geographical data.  We single out the \"thermal\" colormap for plotting temperature data."
   ]
  },
  {
   "cell_type": "code",
   "execution_count": 5,
   "metadata": {
    "collapsed": true
   },
   "outputs": [],
   "source": [
    "import cmocean\n",
    "cm_thermal = cmocean.cm.thermal"
   ]
  },
  {
   "cell_type": "markdown",
   "metadata": {},
   "source": [
    "## SQL database connection"
   ]
  },
  {
   "cell_type": "markdown",
   "metadata": {},
   "source": [
    "The ESC403 cluster comes preinstalled with [Catherine Devlin's `%sql`-magic for IPython][1]; this allows you to run SQL queries from the IPython notebook, and intermix them with Python code.\n",
    "\n",
    "[1]: https://github.com/catherinedevlin/ipython-sql"
   ]
  },
  {
   "cell_type": "markdown",
   "metadata": {},
   "source": [
    "Before we can use the `%sql` syntax, two steps must be taken:\n",
    "\n",
    "* Load the IPython-SQL bridge code"
   ]
  },
  {
   "cell_type": "code",
   "execution_count": 6,
   "metadata": {
    "collapsed": false
   },
   "outputs": [],
   "source": [
    "%load_ext sql"
   ]
  },
  {
   "cell_type": "markdown",
   "metadata": {},
   "source": [
    "* Connect to an actual database; this must be the first `%sql` statement (the `rmurri@/equidistantpoints` syntax means \"connect to the PostGreSQL DB named `equidistantpoints` running on *this* host as user `rmurri`\" -- of course change `rmurri` to *your* user name):"
   ]
  },
  {
   "cell_type": "code",
   "execution_count": 7,
   "metadata": {
    "collapsed": false
   },
   "outputs": [
    {
     "data": {
      "text/plain": [
       "u'Connected: rmurri@equidistantpoints'"
      ]
     },
     "execution_count": 7,
     "metadata": {},
     "output_type": "execute_result"
    }
   ],
   "source": [
    "%sql postgresql://rmurri@/equidistantpoints"
   ]
  },
  {
   "cell_type": "markdown",
   "metadata": {},
   "source": [
    "This database contains the [Equidistant Geographic Grid Points and Modern Climate](http://mypage.iu.edu/~pdpolly/Data.html) dataset (this the \"extended North American data\" in the words of the source website), see the [original publication](http://mypage.iu.edu/~pdpolly/Data.html) for details."
   ]
  },
  {
   "cell_type": "markdown",
   "metadata": {},
   "source": [
    "We are going to use only the \"temperature\" table in the following. (But feel free to experiment with the others!)"
   ]
  },
  {
   "cell_type": "code",
   "execution_count": 8,
   "metadata": {
    "collapsed": false
   },
   "outputs": [
    {
     "name": "stdout",
     "output_type": "stream",
     "text": [
      "3 rows affected.\n"
     ]
    },
    {
     "data": {
      "text/html": [
       "<table>\n",
       "    <tr>\n",
       "        <th>id</th>\n",
       "        <th>longitude</th>\n",
       "        <th>latitude</th>\n",
       "        <th>jan</th>\n",
       "        <th>feb</th>\n",
       "        <th>mar</th>\n",
       "        <th>apr</th>\n",
       "        <th>may</th>\n",
       "        <th>jun</th>\n",
       "        <th>jul</th>\n",
       "        <th>aug</th>\n",
       "        <th>sep</th>\n",
       "        <th>oct</th>\n",
       "        <th>nov</th>\n",
       "        <th>dec</th>\n",
       "        <th>ann</th>\n",
       "    </tr>\n",
       "    <tr>\n",
       "        <td>6</td>\n",
       "        <td>-79.46900</td>\n",
       "        <td>82.81348</td>\n",
       "        <td>-35.00000</td>\n",
       "        <td>-37.00000</td>\n",
       "        <td>-33.00000</td>\n",
       "        <td>-24.90000</td>\n",
       "        <td>-10.00000</td>\n",
       "        <td>0.30000</td>\n",
       "        <td>3.30000</td>\n",
       "        <td>1.40000</td>\n",
       "        <td>-9.00000</td>\n",
       "        <td>-20.70000</td>\n",
       "        <td>-28.80000</td>\n",
       "        <td>-32.50000</td>\n",
       "        <td>-18.90000</td>\n",
       "    </tr>\n",
       "    <tr>\n",
       "        <td>7</td>\n",
       "        <td>-75.87860</td>\n",
       "        <td>82.81348</td>\n",
       "        <td>-35.00000</td>\n",
       "        <td>-37.10000</td>\n",
       "        <td>-32.80000</td>\n",
       "        <td>-24.70000</td>\n",
       "        <td>-9.90000</td>\n",
       "        <td>0.10000</td>\n",
       "        <td>3.30000</td>\n",
       "        <td>1.40000</td>\n",
       "        <td>-9.20000</td>\n",
       "        <td>-20.90000</td>\n",
       "        <td>-28.80000</td>\n",
       "        <td>-32.30000</td>\n",
       "        <td>-18.80000</td>\n",
       "    </tr>\n",
       "    <tr>\n",
       "        <td>8</td>\n",
       "        <td>-72.28820</td>\n",
       "        <td>82.81348</td>\n",
       "        <td>-34.90000</td>\n",
       "        <td>-36.90000</td>\n",
       "        <td>-32.70000</td>\n",
       "        <td>-24.60000</td>\n",
       "        <td>-9.90000</td>\n",
       "        <td>-0.10000</td>\n",
       "        <td>3.20000</td>\n",
       "        <td>1.30000</td>\n",
       "        <td>-9.50000</td>\n",
       "        <td>-20.90000</td>\n",
       "        <td>-28.80000</td>\n",
       "        <td>-32.00000</td>\n",
       "        <td>-18.80000</td>\n",
       "    </tr>\n",
       "</table>"
      ],
      "text/plain": [
       "[(6, Decimal('-79.46900'), Decimal('82.81348'), Decimal('-35.00000'), Decimal('-37.00000'), Decimal('-33.00000'), Decimal('-24.90000'), Decimal('-10.00000'), Decimal('0.30000'), Decimal('3.30000'), Decimal('1.40000'), Decimal('-9.00000'), Decimal('-20.70000'), Decimal('-28.80000'), Decimal('-32.50000'), Decimal('-18.90000')),\n",
       " (7, Decimal('-75.87860'), Decimal('82.81348'), Decimal('-35.00000'), Decimal('-37.10000'), Decimal('-32.80000'), Decimal('-24.70000'), Decimal('-9.90000'), Decimal('0.10000'), Decimal('3.30000'), Decimal('1.40000'), Decimal('-9.20000'), Decimal('-20.90000'), Decimal('-28.80000'), Decimal('-32.30000'), Decimal('-18.80000')),\n",
       " (8, Decimal('-72.28820'), Decimal('82.81348'), Decimal('-34.90000'), Decimal('-36.90000'), Decimal('-32.70000'), Decimal('-24.60000'), Decimal('-9.90000'), Decimal('-0.10000'), Decimal('3.20000'), Decimal('1.30000'), Decimal('-9.50000'), Decimal('-20.90000'), Decimal('-28.80000'), Decimal('-32.00000'), Decimal('-18.80000'))]"
      ]
     },
     "execution_count": 8,
     "metadata": {},
     "output_type": "execute_result"
    }
   ],
   "source": [
    "%sql select * from natempwilmott limit 3;"
   ]
  },
  {
   "cell_type": "markdown",
   "metadata": {},
   "source": [
    "----"
   ]
  },
  {
   "cell_type": "markdown",
   "metadata": {},
   "source": [
    "# Interactive plotting\n",
    "\n",
    "Jupyter/IPython provides facilities for making interactive visualizations in the notebook.\n",
    "\n",
    "The general schema for making an interactive visualization is:\n",
    "\n",
    "1. Make a function that takes the interactively-settable parameters as arguments, and returns a \"plot\" (or any other object that can be shown in the notebook).\n",
    "2. Decorate this function with the `@interact` annotation, providing initial values for all interactively-settable parameters."
   ]
  },
  {
   "cell_type": "markdown",
   "metadata": {},
   "source": [
    "All relevant code lives in Python module `ipywidgets`:"
   ]
  },
  {
   "cell_type": "code",
   "execution_count": 9,
   "metadata": {
    "collapsed": false
   },
   "outputs": [],
   "source": [
    "from ipywidgets import interact, FloatSlider, Select, Dropdown"
   ]
  },
  {
   "cell_type": "markdown",
   "metadata": {},
   "source": [
    "The following example shows how to create an interactive sine wave plot (see [here](http://earthpy.org/pyncview_pm.html)).  Note how IPython automatically detects the parameter type and uses a slider to set floating-point values and a text-box for the `color` parameter:"
   ]
  },
  {
   "cell_type": "code",
   "execution_count": 10,
   "metadata": {
    "collapsed": false
   },
   "outputs": [
    {
     "data": {
      "text/plain": [
       "<matplotlib.axes._subplots.AxesSubplot at 0x7fb9f07fa110>"
      ]
     },
     "metadata": {},
     "output_type": "display_data"
    },
    {
     "data": {
      "image/png": "[encoded data removed]",
      "text/plain": [
       "<matplotlib.figure.Figure at 0x7fb9f0786210>"
      ]
     },
     "metadata": {},
     "output_type": "display_data"
    }
   ],
   "source": [
    "@interact(freq=1.0, amp=1.0, color='blue')\n",
    "def wave(freq, amp, color):\n",
    "    xs = np.linspace(-np.pi, +np.pi, 200)\n",
    "    ys = np.sin(2*np.pi*freq*xs) * amp\n",
    "    ax = plt.gca()\n",
    "    ax.plot(xs, ys, color=color)\n",
    "    ax.set_ylim([-5., +5.])\n",
    "    return ax"
   ]
  },
  {
   "cell_type": "markdown",
   "metadata": {},
   "source": [
    "However, with auto-detection we cannot constrain the input values: e.g., we cannot set the valid range of inputs, nor restrict the color selection.  It is possible to explicitly instanciate the widget to use for setting a parameter from a [large Widget list](http://ipywidgets.readthedocs.io/en/stable/examples/Widget%20List.html)."
   ]
  },
  {
   "cell_type": "code",
   "execution_count": 11,
   "metadata": {
    "collapsed": false
   },
   "outputs": [
    {
     "data": {
      "text/plain": [
       "<matplotlib.axes._subplots.AxesSubplot at 0x7fb9f07f4fd0>"
      ]
     },
     "metadata": {},
     "output_type": "display_data"
    },
    {
     "data": {
      "image/png": "[encoded data removed]",
      "text/plain": [
       "<matplotlib.figure.Figure at 0x7fb9f07faa90>"
      ]
     },
     "metadata": {},
     "output_type": "display_data"
    }
   ],
   "source": [
    "@interact(freq=1.0, \n",
    "          amp=FloatSlider(min=0.5, max=5.0, step=0.1), \n",
    "          color=Select(options=['red', 'green', 'blue'], description='color'))\n",
    "def wave(freq, amp, color):\n",
    "    xs = np.linspace(-np.pi, +np.pi, 200)\n",
    "    ys = np.sin(2*np.pi*freq*xs) * amp\n",
    "    ax = plt.gca()\n",
    "    ax.plot(xs, ys, color=color)\n",
    "    ax.set_ylim([-5., +5.])\n",
    "    return ax"
   ]
  },
  {
   "cell_type": "markdown",
   "metadata": {},
   "source": [
    "Using slider widgets often results in screen flickering (redrawing the plot is slower than just moving a slide).  The `continuous_update=False` argument can be added to the slider to only re-paint upon mouse button release."
   ]
  },
  {
   "cell_type": "code",
   "execution_count": 12,
   "metadata": {
    "collapsed": false
   },
   "outputs": [
    {
     "data": {
      "text/plain": [
       "<matplotlib.axes._subplots.AxesSubplot at 0x7fb9f1080550>"
      ]
     },
     "metadata": {},
     "output_type": "display_data"
    },
    {
     "data": {
      "image/png": "[encoded data removed]",
      "text/plain": [
       "<matplotlib.figure.Figure at 0x7fb9f1080750>"
      ]
     },
     "metadata": {},
     "output_type": "display_data"
    }
   ],
   "source": [
    "@interact(freq=FloatSlider(min=0.5, max=5.0, step=0.1, continuous_update=False), \n",
    "          amp=FloatSlider(min=0.5, max=5.0, step=0.1, continuous_update=False), \n",
    "          color=Select(options=['red', 'green', 'blue'], description='color'))\n",
    "def wave(freq, amp, color):\n",
    "    xs = np.linspace(-np.pi, +np.pi, 200)\n",
    "    ys = np.sin(2*np.pi*freq*xs) * amp\n",
    "    ax = plt.gca()\n",
    "    ax.plot(xs, ys, color=color)\n",
    "    ax.set_ylim([-5., +5.])\n",
    "    return ax"
   ]
  },
  {
   "cell_type": "markdown",
   "metadata": {},
   "source": [
    "----"
   ]
  },
  {
   "cell_type": "markdown",
   "metadata": {},
   "source": [
    "## 1. Make an interactive plot of the earth surface: viewport is selected using sliders"
   ]
  },
  {
   "cell_type": "markdown",
   "metadata": {
    "collapsed": true
   },
   "source": [
    "For the making plots of the Earth surface, we need to import the CartoPy library and relevant submodules."
   ]
  },
  {
   "cell_type": "code",
   "execution_count": 13,
   "metadata": {
    "collapsed": false
   },
   "outputs": [],
   "source": [
    "import cartopy\n",
    "import cartopy.crs\n",
    "\n",
    "# Create a Cartopy crs for plain  lat-lon projections.\n",
    "plain_crs = cartopy.crs.PlateCarree()"
   ]
  },
  {
   "cell_type": "markdown",
   "metadata": {},
   "source": [
    "The following `worldplot` function displays a rectangle of a \"plate carree\" projection, with longitude ranging from `e` to `w`, and latitude ranging from `b` to `t`."
   ]
  },
  {
   "cell_type": "code",
   "execution_count": 14,
   "metadata": {
    "collapsed": true
   },
   "outputs": [],
   "source": [
    "def worldplot(e,w,n,s):\n",
    "    \"\"\"\n",
    "    Plot a rectangular map of the world, \n",
    "    ranging in longitude from `e` to `w`, and in latitude from `s` to `n`.\n",
    "    \"\"\"\n",
    "    ax = plt.subplot(111, projection=plain_crs)\n",
    "    ax.set_extent((e, w, n, s), crs=plain_crs)\n",
    "    ax.gridlines(color='lightgrey', linestyle='-')\n",
    "    ax.coastlines()\n",
    "    return ax"
   ]
  },
  {
   "cell_type": "markdown",
   "metadata": {},
   "source": [
    "The `interact` function can be called explicitly (i.e., not in decorator form).  In this case, the function to be called interactively is passed in as first argument."
   ]
  },
  {
   "cell_type": "code",
   "execution_count": 15,
   "metadata": {
    "collapsed": false
   },
   "outputs": [
    {
     "name": "stderr",
     "output_type": "stream",
     "text": [
      "/opt/anaconda2/lib/python2.7/site-packages/matplotlib/ticker.py:1693: UserWarning: Steps argument should be a sequence of numbers\n",
      "increasing from 1 to 10, inclusive. Behavior with\n",
      "values outside this range is undefined, and will\n",
      "raise a ValueError in future versions of mpl.\n",
      "  warnings.warn('Steps argument should be a sequence of numbers\\n'\n"
     ]
    },
    {
     "data": {
      "text/plain": [
       "<cartopy.mpl.geoaxes.GeoAxesSubplot at 0x7fb9ec13f810>"
      ]
     },
     "metadata": {},
     "output_type": "display_data"
    },
    {
     "data": {
      "text/plain": [
       "<function __main__.worldplot>"
      ]
     },
     "execution_count": 15,
     "metadata": {},
     "output_type": "execute_result"
    },
    {
     "data": {
      "image/png": "[encoded data removed]",
      "text/plain": [
       "<matplotlib.figure.Figure at 0x7fb9ed255190>"
      ]
     },
     "metadata": {},
     "output_type": "display_data"
    }
   ],
   "source": [
    "interact(worldplot, \n",
    "         e=FloatSlider(value=0,   min=-180.0, max=180.0, step=1.0, continuous_update=False),\n",
    "         w=FloatSlider(value=25,  min=-180.0, max=180.0, step=1.0, continuous_update=False),\n",
    "         n=FloatSlider(value=+50, min=-90.0,  max=90.0,  step=1.0, continuous_update=False),\n",
    "         s=FloatSlider(value=+25, min=-90.0,  max=90.0,  step=1.0, continuous_update=False))"
   ]
  },
  {
   "cell_type": "markdown",
   "metadata": {},
   "source": [
    "## 2. Make an interactive plot of average temperatures in NA: month should be selectable"
   ]
  },
  {
   "cell_type": "markdown",
   "metadata": {
    "collapsed": true
   },
   "source": [
    "Let us set up a few utility functions first."
   ]
  },
  {
   "cell_type": "markdown",
   "metadata": {},
   "source": [
    "#### 1. A function to create and return a plot of North America:"
   ]
  },
  {
   "cell_type": "code",
   "execution_count": 16,
   "metadata": {
    "collapsed": true
   },
   "outputs": [],
   "source": [
    "def plot_north_america():\n",
    "    ax = plt.subplot(111, projection=plain_crs)\n",
    "    ax.set_extent((-180, -40, 10, 80), crs=plain_crs)\n",
    "    ax.gridlines(color='lightgrey', linestyle='-')\n",
    "    ax.coastlines()\n",
    "    return ax"
   ]
  },
  {
   "cell_type": "markdown",
   "metadata": {},
   "source": [
    "#### 2. Fetch the data from SQL"
   ]
  },
  {
   "cell_type": "code",
   "execution_count": 17,
   "metadata": {
    "collapsed": false
   },
   "outputs": [
    {
     "name": "stdout",
     "output_type": "stream",
     "text": [
      "8509 rows affected.\n"
     ]
    }
   ],
   "source": [
    "data = %sql SELECT * FROM natempwilmott "
   ]
  },
  {
   "cell_type": "code",
   "execution_count": 18,
   "metadata": {
    "collapsed": false
   },
   "outputs": [
    {
     "data": {
      "text/plain": [
       "[(6, Decimal('-79.46900'), Decimal('82.81348'), Decimal('-35.00000'), Decimal('-37.00000'), Decimal('-33.00000'), Decimal('-24.90000'), Decimal('-10.00000'), Decimal('0.30000'), Decimal('3.30000'), Decimal('1.40000'), Decimal('-9.00000'), Decimal('-20.70000'), Decimal('-28.80000'), Decimal('-32.50000'), Decimal('-18.90000')),\n",
       " (7, Decimal('-75.87860'), Decimal('82.81348'), Decimal('-35.00000'), Decimal('-37.10000'), Decimal('-32.80000'), Decimal('-24.70000'), Decimal('-9.90000'), Decimal('0.10000'), Decimal('3.30000'), Decimal('1.40000'), Decimal('-9.20000'), Decimal('-20.90000'), Decimal('-28.80000'), Decimal('-32.30000'), Decimal('-18.80000'))]"
      ]
     },
     "execution_count": 18,
     "metadata": {},
     "output_type": "execute_result"
    }
   ],
   "source": [
    "data[:2]"
   ]
  },
  {
   "cell_type": "markdown",
   "metadata": {},
   "source": [
    "A direct SQL query shows the order and names of columns."
   ]
  },
  {
   "cell_type": "code",
   "execution_count": 19,
   "metadata": {
    "collapsed": false
   },
   "outputs": [
    {
     "name": "stdout",
     "output_type": "stream",
     "text": [
      "3 rows affected.\n"
     ]
    },
    {
     "data": {
      "text/html": [
       "<table>\n",
       "    <tr>\n",
       "        <th>id</th>\n",
       "        <th>longitude</th>\n",
       "        <th>latitude</th>\n",
       "        <th>jan</th>\n",
       "        <th>feb</th>\n",
       "        <th>mar</th>\n",
       "        <th>apr</th>\n",
       "        <th>may</th>\n",
       "        <th>jun</th>\n",
       "        <th>jul</th>\n",
       "        <th>aug</th>\n",
       "        <th>sep</th>\n",
       "        <th>oct</th>\n",
       "        <th>nov</th>\n",
       "        <th>dec</th>\n",
       "        <th>ann</th>\n",
       "    </tr>\n",
       "    <tr>\n",
       "        <td>6</td>\n",
       "        <td>-79.46900</td>\n",
       "        <td>82.81348</td>\n",
       "        <td>-35.00000</td>\n",
       "        <td>-37.00000</td>\n",
       "        <td>-33.00000</td>\n",
       "        <td>-24.90000</td>\n",
       "        <td>-10.00000</td>\n",
       "        <td>0.30000</td>\n",
       "        <td>3.30000</td>\n",
       "        <td>1.40000</td>\n",
       "        <td>-9.00000</td>\n",
       "        <td>-20.70000</td>\n",
       "        <td>-28.80000</td>\n",
       "        <td>-32.50000</td>\n",
       "        <td>-18.90000</td>\n",
       "    </tr>\n",
       "    <tr>\n",
       "        <td>7</td>\n",
       "        <td>-75.87860</td>\n",
       "        <td>82.81348</td>\n",
       "        <td>-35.00000</td>\n",
       "        <td>-37.10000</td>\n",
       "        <td>-32.80000</td>\n",
       "        <td>-24.70000</td>\n",
       "        <td>-9.90000</td>\n",
       "        <td>0.10000</td>\n",
       "        <td>3.30000</td>\n",
       "        <td>1.40000</td>\n",
       "        <td>-9.20000</td>\n",
       "        <td>-20.90000</td>\n",
       "        <td>-28.80000</td>\n",
       "        <td>-32.30000</td>\n",
       "        <td>-18.80000</td>\n",
       "    </tr>\n",
       "    <tr>\n",
       "        <td>8</td>\n",
       "        <td>-72.28820</td>\n",
       "        <td>82.81348</td>\n",
       "        <td>-34.90000</td>\n",
       "        <td>-36.90000</td>\n",
       "        <td>-32.70000</td>\n",
       "        <td>-24.60000</td>\n",
       "        <td>-9.90000</td>\n",
       "        <td>-0.10000</td>\n",
       "        <td>3.20000</td>\n",
       "        <td>1.30000</td>\n",
       "        <td>-9.50000</td>\n",
       "        <td>-20.90000</td>\n",
       "        <td>-28.80000</td>\n",
       "        <td>-32.00000</td>\n",
       "        <td>-18.80000</td>\n",
       "    </tr>\n",
       "</table>"
      ],
      "text/plain": [
       "[(6, Decimal('-79.46900'), Decimal('82.81348'), Decimal('-35.00000'), Decimal('-37.00000'), Decimal('-33.00000'), Decimal('-24.90000'), Decimal('-10.00000'), Decimal('0.30000'), Decimal('3.30000'), Decimal('1.40000'), Decimal('-9.00000'), Decimal('-20.70000'), Decimal('-28.80000'), Decimal('-32.50000'), Decimal('-18.90000')),\n",
       " (7, Decimal('-75.87860'), Decimal('82.81348'), Decimal('-35.00000'), Decimal('-37.10000'), Decimal('-32.80000'), Decimal('-24.70000'), Decimal('-9.90000'), Decimal('0.10000'), Decimal('3.30000'), Decimal('1.40000'), Decimal('-9.20000'), Decimal('-20.90000'), Decimal('-28.80000'), Decimal('-32.30000'), Decimal('-18.80000')),\n",
       " (8, Decimal('-72.28820'), Decimal('82.81348'), Decimal('-34.90000'), Decimal('-36.90000'), Decimal('-32.70000'), Decimal('-24.60000'), Decimal('-9.90000'), Decimal('-0.10000'), Decimal('3.20000'), Decimal('1.30000'), Decimal('-9.50000'), Decimal('-20.90000'), Decimal('-28.80000'), Decimal('-32.00000'), Decimal('-18.80000'))]"
      ]
     },
     "execution_count": 19,
     "metadata": {},
     "output_type": "execute_result"
    }
   ],
   "source": [
    "%sql SELECT * FROM natempwilmott LIMIT 3;"
   ]
  },
  {
   "cell_type": "markdown",
   "metadata": {},
   "source": [
    "#### 3. Create sorted arrays of longitude/latitude values"
   ]
  },
  {
   "cell_type": "code",
   "execution_count": 20,
   "metadata": {
    "collapsed": true
   },
   "outputs": [],
   "source": [
    "longitude = np.array(sorted(set(row[1] for row in data)), dtype=np.float)"
   ]
  },
  {
   "cell_type": "code",
   "execution_count": 21,
   "metadata": {
    "collapsed": false
   },
   "outputs": [],
   "source": [
    "latitude = np.array(sorted(set(row[2] for row in data)), dtype=np.float)"
   ]
  },
  {
   "cell_type": "code",
   "execution_count": 22,
   "metadata": {
    "collapsed": false
   },
   "outputs": [
    {
     "data": {
      "text/plain": [
       "(array([-170.94039, -166.87923, -166.26217]),\n",
       " array([ 7.35503,  7.80419,  8.25335]))"
      ]
     },
     "execution_count": 22,
     "metadata": {},
     "output_type": "execute_result"
    }
   ],
   "source": [
    "longitude[:3], latitude[:3]"
   ]
  },
  {
   "cell_type": "markdown",
   "metadata": {},
   "source": [
    "#### 4. Create a 3D matrix to hold temperature values"
   ]
  },
  {
   "cell_type": "markdown",
   "metadata": {},
   "source": [
    "Once a month is chosen, we need a *masked* 2D matrix to hold the temperature values for the plot.  So we shall store the temperature values in an array of 2D matrices, coded by month number (0=Jan., 1=Feb., ..., 12=All year).  This takes then the form of a 3D NumPy array, with one coordinate taking the discrete values 0..12 and the other two varying in the `longitude` and `latitude` arrays."
   ]
  },
  {
   "cell_type": "code",
   "execution_count": 23,
   "metadata": {
    "collapsed": true
   },
   "outputs": [],
   "source": [
    "n_lon = len(longitude)\n",
    "n_lat = len(latitude)\n",
    "n_col = len(data[0]) - len(['id', 'longitude', 'latitude'])"
   ]
  },
  {
   "cell_type": "markdown",
   "metadata": {},
   "source": [
    "To form a masked array we need to build the data and mask parts separately."
   ]
  },
  {
   "cell_type": "code",
   "execution_count": 24,
   "metadata": {
    "collapsed": false
   },
   "outputs": [],
   "source": [
    "temp3d_data = np.empty([n_col, n_lon, n_lat], dtype=np.float)\n",
    "temp3d_mask = np.full(temp3d_data.shape, True,  dtype=np.bool)"
   ]
  },
  {
   "cell_type": "code",
   "execution_count": 25,
   "metadata": {
    "collapsed": false
   },
   "outputs": [
    {
     "name": "stdout",
     "output_type": "stream",
     "text": [
      "CPU times: user 334 ms, sys: 36.5 ms, total: 371 ms\n",
      "Wall time: 374 ms\n"
     ]
    }
   ],
   "source": [
    "%%time\n",
    "\n",
    "lon_to_index = { value:idx for idx, value in enumerate(longitude) }\n",
    "lat_to_index = { value:idx for idx, value in enumerate(latitude) }\n",
    "\n",
    "for row in data:\n",
    "    x = float(row[1])\n",
    "    y = float(row[2])\n",
    "    i = lon_to_index[x]\n",
    "    j = lat_to_index[y]\n",
    "    for n, value in enumerate(row[3:]):\n",
    "        temp3d_data[n, i, j] = float(value)\n",
    "        temp3d_mask[n, i, j] = False"
   ]
  },
  {
   "cell_type": "code",
   "execution_count": 26,
   "metadata": {
    "collapsed": true
   },
   "outputs": [],
   "source": [
    "temp3d = np.ma.array(temp3d_data, mask=temp3d_mask)"
   ]
  },
  {
   "cell_type": "markdown",
   "metadata": {},
   "source": [
    "#### 5. Plotting time!"
   ]
  },
  {
   "cell_type": "markdown",
   "metadata": {},
   "source": [
    "Let us define a function to do the plotting.  Note that the only parameter `period` is a number (integer in range 0..12 inclusive), which selects the column from the `temp` array with the data to plot: 0=Jan., 1=Feb., ..., 12=Year."
   ]
  },
  {
   "cell_type": "code",
   "execution_count": 27,
   "metadata": {
    "collapsed": true
   },
   "outputs": [],
   "source": [
    "def temp_plot(period):\n",
    "    ax = plot_north_america()\n",
    "    temp2d = temp3d[period, :, :]\n",
    "    ax.pcolormesh(longitude, latitude, temp2d.T, transform=plain_crs, cmap=cm_thermal)\n",
    "    return ax"
   ]
  },
  {
   "cell_type": "markdown",
   "metadata": {},
   "source": [
    "Now use the NA temperature plotting function interactively.  Note that IPython automatically selects the `Dropdown` widget when presented with `dict`-data."
   ]
  },
  {
   "cell_type": "code",
   "execution_count": 28,
   "metadata": {
    "collapsed": false
   },
   "outputs": [
    {
     "data": {
      "text/plain": [
       "<cartopy.mpl.geoaxes.GeoAxesSubplot at 0x7fb9ec0fd110>"
      ]
     },
     "metadata": {},
     "output_type": "display_data"
    },
    {
     "data": {
      "text/plain": [
       "<function __main__.temp_plot>"
      ]
     },
     "execution_count": 28,
     "metadata": {},
     "output_type": "execute_result"
    },
    {
     "data": {
      "image/png": "[encoded data removed]",
      "text/plain": [
       "<matplotlib.figure.Figure at 0x7fb9ec0e7050>"
      ]
     },
     "metadata": {},
     "output_type": "display_data"
    }
   ],
   "source": [
    "interact(temp_plot, period={'jan':0, 'aug':8, 'year':12})"
   ]
  }
 ],
 "metadata": {
  "kernelspec": {
   "display_name": "Python 2",
   "language": "python",
   "name": "python2"
  },
  "language_info": {
   "codemirror_mode": {
    "name": "ipython",
    "version": 2
   },
   "file_extension": ".py",
   "mimetype": "text/x-python",
   "name": "python",
   "nbconvert_exporter": "python",
   "pygments_lexer": "ipython2",
   "version": "2.7.13"
  }
 },
 "nbformat": 4,
 "nbformat_minor": 0
}
