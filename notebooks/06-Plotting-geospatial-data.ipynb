{
 "cells": [
  {
   "cell_type": "markdown",
   "metadata": {},
   "source": [
    "<a rel=\"license\" href=\"http://creativecommons.org/licenses/by-sa/4.0/\"><img alt=\"Creative Commons License\" style=\"border-width:0\" src=\"https://i.creativecommons.org/l/by-sa/4.0/80x15.png\" /></a><div align=\"center\">This work is licensed under a <a rel=\"license\" href=\"http://creativecommons.org/licenses/by-sa/4.0/\">Creative Commons Attribution-ShareAlike 4.0 International License</a>.</div>\n",
    "\n",
    "----"
   ]
  },
  {
   "cell_type": "markdown",
   "metadata": {},
   "source": [
    "# Preparing the environment"
   ]
  },
  {
   "cell_type": "markdown",
   "metadata": {},
   "source": [
    "## Graphics and plotting"
   ]
  },
  {
   "cell_type": "markdown",
   "metadata": {},
   "source": [
    "The following block of code initializes the Python plotting library [matplotlib](http://matplotlib.org/gallery.html) and configures it to show figures embedded in the notebook (as opposed to opening a new window for each figure):"
   ]
  },
  {
   "cell_type": "code",
   "execution_count": 1,
   "metadata": {
    "collapsed": true
   },
   "outputs": [],
   "source": [
    "%matplotlib inline\n",
    "\n",
    "import matplotlib\n",
    "import matplotlib.pyplot as plt"
   ]
  },
  {
   "cell_type": "markdown",
   "metadata": {},
   "source": [
    "The Seaborn library provides easy-to-use plotting functions for common plot types, and better default visual styles."
   ]
  },
  {
   "cell_type": "code",
   "execution_count": 2,
   "metadata": {
    "collapsed": true
   },
   "outputs": [],
   "source": [
    "import seaborn as sea"
   ]
  },
  {
   "cell_type": "markdown",
   "metadata": {},
   "source": [
    "Set the default size and style of the plot.  (Plots are styled to [look like R's `ggplot`](http://tonysyu.github.io/mpltools/auto_examples/style/plot_ggplot.html) library.)"
   ]
  },
  {
   "cell_type": "code",
   "execution_count": 3,
   "metadata": {
    "collapsed": true
   },
   "outputs": [],
   "source": [
    "matplotlib.rcParams['figure.figsize'] = (10, 7)\n",
    "\n",
    "sea.set_style('dark')"
   ]
  },
  {
   "cell_type": "markdown",
   "metadata": {},
   "source": [
    "Also make the NumPy library available (without it, some features of Matplotlib and -especially- Seaborn) will *not* work:"
   ]
  },
  {
   "cell_type": "code",
   "execution_count": 4,
   "metadata": {
    "collapsed": true
   },
   "outputs": [],
   "source": [
    "import numpy as np"
   ]
  },
  {
   "cell_type": "markdown",
   "metadata": {},
   "source": [
    "## SQL database connection"
   ]
  },
  {
   "cell_type": "markdown",
   "metadata": {},
   "source": [
    "The ESC403 cluster comes preinstalled with [Catherine Devlin's `%sql`-magic for IPython][1]; this allows you to run SQL queries from the IPython notebook, and intermix them with Python code.\n",
    "\n",
    "[1]: https://github.com/catherinedevlin/ipython-sql"
   ]
  },
  {
   "cell_type": "markdown",
   "metadata": {},
   "source": [
    "Before we can use the `%sql` syntax, two steps must be taken:\n",
    "\n",
    "* Load the IPython-SQL bridge code"
   ]
  },
  {
   "cell_type": "code",
   "execution_count": 5,
   "metadata": {
    "collapsed": false
   },
   "outputs": [],
   "source": [
    "%load_ext sql"
   ]
  },
  {
   "cell_type": "markdown",
   "metadata": {},
   "source": [
    "* Connect to an actual database; this must be the first `%sql` statement (the `rmurri@/equidistantpoints` syntax means \"connect to the PostGreSQL DB named `equidistantpoints` running on *this* host as user `rmurri`\" -- of course change `rmurri` to *your* user name):"
   ]
  },
  {
   "cell_type": "code",
   "execution_count": 6,
   "metadata": {
    "collapsed": false
   },
   "outputs": [
    {
     "data": {
      "text/plain": [
       "u'Connected: rmurri@equidistantpoints'"
      ]
     },
     "execution_count": 6,
     "metadata": {},
     "output_type": "execute_result"
    }
   ],
   "source": [
    "%sql postgresql://rmurri@/equidistantpoints"
   ]
  },
  {
   "cell_type": "markdown",
   "metadata": {},
   "source": [
    "This database contains the [Equidistant Geographic Grid Points and Modern Climate](http://mypage.iu.edu/~pdpolly/Data.html) dataset (this the \"extended North American data\" in the words of the source website), see the [original publication](http://mypage.iu.edu/~pdpolly/Data.html) for details."
   ]
  },
  {
   "cell_type": "markdown",
   "metadata": {},
   "source": [
    "Let us then explore the tables to get a \"feeling\" of the data here (**Note:** this query is non-standard and will only run on the PostgreSQL RDBMS):"
   ]
  },
  {
   "cell_type": "code",
   "execution_count": 7,
   "metadata": {
    "collapsed": false
   },
   "outputs": [
    {
     "name": "stdout",
     "output_type": "stream",
     "text": [
      "8 rows affected.\n"
     ]
    },
    {
     "data": {
      "text/html": [
       "<table>\n",
       "    <tr>\n",
       "        <th>table_name</th>\n",
       "    </tr>\n",
       "    <tr>\n",
       "        <td>naecoregionsbailey</td>\n",
       "    </tr>\n",
       "    <tr>\n",
       "        <td>natempwilmott</td>\n",
       "    </tr>\n",
       "    <tr>\n",
       "        <td>navegcovermatthews</td>\n",
       "    </tr>\n",
       "    <tr>\n",
       "        <td>na50kmpoints</td>\n",
       "    </tr>\n",
       "    <tr>\n",
       "        <td>naaltterrainbase</td>\n",
       "    </tr>\n",
       "    <tr>\n",
       "        <td>nabioclimvars</td>\n",
       "    </tr>\n",
       "    <tr>\n",
       "        <td>naprecipwilmott</td>\n",
       "    </tr>\n",
       "    <tr>\n",
       "        <td>northamerica50kmpoints</td>\n",
       "    </tr>\n",
       "</table>"
      ],
      "text/plain": [
       "[(u'naecoregionsbailey',),\n",
       " (u'natempwilmott',),\n",
       " (u'navegcovermatthews',),\n",
       " (u'na50kmpoints',),\n",
       " (u'naaltterrainbase',),\n",
       " (u'nabioclimvars',),\n",
       " (u'naprecipwilmott',),\n",
       " (u'northamerica50kmpoints',)]"
      ]
     },
     "execution_count": 7,
     "metadata": {},
     "output_type": "execute_result"
    }
   ],
   "source": [
    "%sql select table_name from information_schema.tables where table_schema = 'public';"
   ]
  },
  {
   "cell_type": "markdown",
   "metadata": {},
   "source": [
    "We shall be using the `natempwilmott` table for the next examples. (It gathers average temperatures in different monts across NA.)"
   ]
  },
  {
   "cell_type": "code",
   "execution_count": 8,
   "metadata": {
    "collapsed": false
   },
   "outputs": [
    {
     "name": "stdout",
     "output_type": "stream",
     "text": [
      "3 rows affected.\n"
     ]
    },
    {
     "data": {
      "text/html": [
       "<table>\n",
       "    <tr>\n",
       "        <th>id</th>\n",
       "        <th>longitude</th>\n",
       "        <th>latitude</th>\n",
       "        <th>jan</th>\n",
       "        <th>feb</th>\n",
       "        <th>mar</th>\n",
       "        <th>apr</th>\n",
       "        <th>may</th>\n",
       "        <th>jun</th>\n",
       "        <th>jul</th>\n",
       "        <th>aug</th>\n",
       "        <th>sep</th>\n",
       "        <th>oct</th>\n",
       "        <th>nov</th>\n",
       "        <th>dec</th>\n",
       "        <th>ann</th>\n",
       "    </tr>\n",
       "    <tr>\n",
       "        <td>6</td>\n",
       "        <td>-79.46900</td>\n",
       "        <td>82.81348</td>\n",
       "        <td>-35.00000</td>\n",
       "        <td>-37.00000</td>\n",
       "        <td>-33.00000</td>\n",
       "        <td>-24.90000</td>\n",
       "        <td>-10.00000</td>\n",
       "        <td>0.30000</td>\n",
       "        <td>3.30000</td>\n",
       "        <td>1.40000</td>\n",
       "        <td>-9.00000</td>\n",
       "        <td>-20.70000</td>\n",
       "        <td>-28.80000</td>\n",
       "        <td>-32.50000</td>\n",
       "        <td>-18.90000</td>\n",
       "    </tr>\n",
       "    <tr>\n",
       "        <td>7</td>\n",
       "        <td>-75.87860</td>\n",
       "        <td>82.81348</td>\n",
       "        <td>-35.00000</td>\n",
       "        <td>-37.10000</td>\n",
       "        <td>-32.80000</td>\n",
       "        <td>-24.70000</td>\n",
       "        <td>-9.90000</td>\n",
       "        <td>0.10000</td>\n",
       "        <td>3.30000</td>\n",
       "        <td>1.40000</td>\n",
       "        <td>-9.20000</td>\n",
       "        <td>-20.90000</td>\n",
       "        <td>-28.80000</td>\n",
       "        <td>-32.30000</td>\n",
       "        <td>-18.80000</td>\n",
       "    </tr>\n",
       "    <tr>\n",
       "        <td>8</td>\n",
       "        <td>-72.28820</td>\n",
       "        <td>82.81348</td>\n",
       "        <td>-34.90000</td>\n",
       "        <td>-36.90000</td>\n",
       "        <td>-32.70000</td>\n",
       "        <td>-24.60000</td>\n",
       "        <td>-9.90000</td>\n",
       "        <td>-0.10000</td>\n",
       "        <td>3.20000</td>\n",
       "        <td>1.30000</td>\n",
       "        <td>-9.50000</td>\n",
       "        <td>-20.90000</td>\n",
       "        <td>-28.80000</td>\n",
       "        <td>-32.00000</td>\n",
       "        <td>-18.80000</td>\n",
       "    </tr>\n",
       "</table>"
      ],
      "text/plain": [
       "[(6, Decimal('-79.46900'), Decimal('82.81348'), Decimal('-35.00000'), Decimal('-37.00000'), Decimal('-33.00000'), Decimal('-24.90000'), Decimal('-10.00000'), Decimal('0.30000'), Decimal('3.30000'), Decimal('1.40000'), Decimal('-9.00000'), Decimal('-20.70000'), Decimal('-28.80000'), Decimal('-32.50000'), Decimal('-18.90000')),\n",
       " (7, Decimal('-75.87860'), Decimal('82.81348'), Decimal('-35.00000'), Decimal('-37.10000'), Decimal('-32.80000'), Decimal('-24.70000'), Decimal('-9.90000'), Decimal('0.10000'), Decimal('3.30000'), Decimal('1.40000'), Decimal('-9.20000'), Decimal('-20.90000'), Decimal('-28.80000'), Decimal('-32.30000'), Decimal('-18.80000')),\n",
       " (8, Decimal('-72.28820'), Decimal('82.81348'), Decimal('-34.90000'), Decimal('-36.90000'), Decimal('-32.70000'), Decimal('-24.60000'), Decimal('-9.90000'), Decimal('-0.10000'), Decimal('3.20000'), Decimal('1.30000'), Decimal('-9.50000'), Decimal('-20.90000'), Decimal('-28.80000'), Decimal('-32.00000'), Decimal('-18.80000'))]"
      ]
     },
     "execution_count": 8,
     "metadata": {},
     "output_type": "execute_result"
    }
   ],
   "source": [
    "%sql select * from natempwilmott limit 3;"
   ]
  },
  {
   "cell_type": "markdown",
   "metadata": {},
   "source": [
    "----"
   ]
  },
  {
   "cell_type": "markdown",
   "metadata": {},
   "source": [
    "# Plotting geographical data\n",
    "\n",
    "We are now going to see a sample on how to plot geographical/geospatial data.  Although libraries for cartographic projection and associated plotting have been available for Python since a few years, the APIs are still scarcely documented, and somewhat difficult/counter-intuitive to use."
   ]
  },
  {
   "cell_type": "markdown",
   "metadata": {},
   "source": [
    "We are going to use the [CartoPy](http://scitools.org.uk/cartopy/) library to do the plotting.  CartoPy provides cartographic tools on top of Python's MatPlotLib, and in particular objects and functions to show the earth surface in its [`cartopy.crs`](http://scitools.org.uk/cartopy/docs/v0.15/crs/index.html) submodule."
   ]
  },
  {
   "cell_type": "code",
   "execution_count": 30,
   "metadata": {
    "collapsed": true
   },
   "outputs": [],
   "source": [
    "import cartopy\n",
    "import cartopy.crs"
   ]
  },
  {
   "cell_type": "markdown",
   "metadata": {},
   "source": [
    "We are going to use the `PlateCarree` projection from the many [available CartoPy projections](http://scitools.org.uk/cartopy/docs/v0.15/crs/projections.html#cartopy-projections):"
   ]
  },
  {
   "cell_type": "code",
   "execution_count": 31,
   "metadata": {
    "collapsed": true
   },
   "outputs": [],
   "source": [
    "# Create a Cartopy crs for plain  lat-lon projections.\n",
    "plain_crs = cartopy.crs.PlateCarree()"
   ]
  },
  {
   "cell_type": "markdown",
   "metadata": {},
   "source": [
    "The following code shows the rectangular portion of the map corresponding to longitude range -180 to -40, and latitude ranging from 10 to 80 (roughly corresponding to North America):"
   ]
  },
  {
   "cell_type": "code",
   "execution_count": 32,
   "metadata": {
    "collapsed": false
   },
   "outputs": [
    {
     "name": "stderr",
     "output_type": "stream",
     "text": [
      "/opt/anaconda2/lib/python2.7/site-packages/matplotlib/ticker.py:1693: UserWarning: Steps argument should be a sequence of numbers\n",
      "increasing from 1 to 10, inclusive. Behavior with\n",
      "values outside this range is undefined, and will\n",
      "raise a ValueError in future versions of mpl.\n",
      "  warnings.warn('Steps argument should be a sequence of numbers\\n'\n"
     ]
    },
    {
     "data": {
      "text/plain": [
       "<cartopy.mpl.feature_artist.FeatureArtist at 0x7f9215c83f90>"
      ]
     },
     "execution_count": 32,
     "metadata": {},
     "output_type": "execute_result"
    },
    {
     "data": {
      "image/png": "[encoded data removed]",
      "text/plain": [
       "<matplotlib.figure.Figure at 0x7f9216e9bf10>"
      ]
     },
     "metadata": {},
     "output_type": "display_data"
    }
   ],
   "source": [
    "ax = plt.subplot(111, projection=plain_crs)\n",
    "ax.set_extent((-180, -40, 10, 80), crs=plain_crs)\n",
    "ax.gridlines(color='lightgrey', linestyle='-')\n",
    "ax.coastlines()"
   ]
  },
  {
   "cell_type": "markdown",
   "metadata": {},
   "source": [
    "For example, let us plot average temperatures in March (DB table `natempwilmott`), overlaying a dot (color shows temperature according to a \"color map\") over each point in the map for which we have data:"
   ]
  },
  {
   "cell_type": "code",
   "execution_count": 33,
   "metadata": {
    "collapsed": false
   },
   "outputs": [
    {
     "name": "stdout",
     "output_type": "stream",
     "text": [
      "3 rows affected.\n"
     ]
    },
    {
     "data": {
      "text/html": [
       "<table>\n",
       "    <tr>\n",
       "        <th>id</th>\n",
       "        <th>longitude</th>\n",
       "        <th>latitude</th>\n",
       "        <th>jan</th>\n",
       "        <th>feb</th>\n",
       "        <th>mar</th>\n",
       "        <th>apr</th>\n",
       "        <th>may</th>\n",
       "        <th>jun</th>\n",
       "        <th>jul</th>\n",
       "        <th>aug</th>\n",
       "        <th>sep</th>\n",
       "        <th>oct</th>\n",
       "        <th>nov</th>\n",
       "        <th>dec</th>\n",
       "        <th>ann</th>\n",
       "    </tr>\n",
       "    <tr>\n",
       "        <td>6</td>\n",
       "        <td>-79.46900</td>\n",
       "        <td>82.81348</td>\n",
       "        <td>-35.00000</td>\n",
       "        <td>-37.00000</td>\n",
       "        <td>-33.00000</td>\n",
       "        <td>-24.90000</td>\n",
       "        <td>-10.00000</td>\n",
       "        <td>0.30000</td>\n",
       "        <td>3.30000</td>\n",
       "        <td>1.40000</td>\n",
       "        <td>-9.00000</td>\n",
       "        <td>-20.70000</td>\n",
       "        <td>-28.80000</td>\n",
       "        <td>-32.50000</td>\n",
       "        <td>-18.90000</td>\n",
       "    </tr>\n",
       "    <tr>\n",
       "        <td>7</td>\n",
       "        <td>-75.87860</td>\n",
       "        <td>82.81348</td>\n",
       "        <td>-35.00000</td>\n",
       "        <td>-37.10000</td>\n",
       "        <td>-32.80000</td>\n",
       "        <td>-24.70000</td>\n",
       "        <td>-9.90000</td>\n",
       "        <td>0.10000</td>\n",
       "        <td>3.30000</td>\n",
       "        <td>1.40000</td>\n",
       "        <td>-9.20000</td>\n",
       "        <td>-20.90000</td>\n",
       "        <td>-28.80000</td>\n",
       "        <td>-32.30000</td>\n",
       "        <td>-18.80000</td>\n",
       "    </tr>\n",
       "    <tr>\n",
       "        <td>8</td>\n",
       "        <td>-72.28820</td>\n",
       "        <td>82.81348</td>\n",
       "        <td>-34.90000</td>\n",
       "        <td>-36.90000</td>\n",
       "        <td>-32.70000</td>\n",
       "        <td>-24.60000</td>\n",
       "        <td>-9.90000</td>\n",
       "        <td>-0.10000</td>\n",
       "        <td>3.20000</td>\n",
       "        <td>1.30000</td>\n",
       "        <td>-9.50000</td>\n",
       "        <td>-20.90000</td>\n",
       "        <td>-28.80000</td>\n",
       "        <td>-32.00000</td>\n",
       "        <td>-18.80000</td>\n",
       "    </tr>\n",
       "</table>"
      ],
      "text/plain": [
       "[(6, Decimal('-79.46900'), Decimal('82.81348'), Decimal('-35.00000'), Decimal('-37.00000'), Decimal('-33.00000'), Decimal('-24.90000'), Decimal('-10.00000'), Decimal('0.30000'), Decimal('3.30000'), Decimal('1.40000'), Decimal('-9.00000'), Decimal('-20.70000'), Decimal('-28.80000'), Decimal('-32.50000'), Decimal('-18.90000')),\n",
       " (7, Decimal('-75.87860'), Decimal('82.81348'), Decimal('-35.00000'), Decimal('-37.10000'), Decimal('-32.80000'), Decimal('-24.70000'), Decimal('-9.90000'), Decimal('0.10000'), Decimal('3.30000'), Decimal('1.40000'), Decimal('-9.20000'), Decimal('-20.90000'), Decimal('-28.80000'), Decimal('-32.30000'), Decimal('-18.80000')),\n",
       " (8, Decimal('-72.28820'), Decimal('82.81348'), Decimal('-34.90000'), Decimal('-36.90000'), Decimal('-32.70000'), Decimal('-24.60000'), Decimal('-9.90000'), Decimal('-0.10000'), Decimal('3.20000'), Decimal('1.30000'), Decimal('-9.50000'), Decimal('-20.90000'), Decimal('-28.80000'), Decimal('-32.00000'), Decimal('-18.80000'))]"
      ]
     },
     "execution_count": 33,
     "metadata": {},
     "output_type": "execute_result"
    }
   ],
   "source": [
    "%sql select * from natempwilmott limit 3;"
   ]
  },
  {
   "cell_type": "code",
   "execution_count": 34,
   "metadata": {
    "collapsed": false
   },
   "outputs": [
    {
     "name": "stdout",
     "output_type": "stream",
     "text": [
      "8509 rows affected.\n"
     ]
    }
   ],
   "source": [
    "data = %sql SELECT longitude, latitude, mar FROM natempwilmott "
   ]
  },
  {
   "cell_type": "code",
   "execution_count": 35,
   "metadata": {
    "collapsed": false
   },
   "outputs": [
    {
     "data": {
      "text/plain": [
       "[(Decimal('-79.46900'), Decimal('82.81348'), Decimal('-33.00000')),\n",
       " (Decimal('-75.87860'), Decimal('82.81348'), Decimal('-32.80000')),\n",
       " (Decimal('-72.28820'), Decimal('82.81348'), Decimal('-32.70000'))]"
      ]
     },
     "execution_count": 35,
     "metadata": {},
     "output_type": "execute_result"
    }
   ],
   "source": [
    "data[:3]"
   ]
  },
  {
   "cell_type": "markdown",
   "metadata": {},
   "source": [
    "Now things start to get more complicated.\n",
    "\n",
    "In order to overlay temperature data on the map, we need:\n",
    "\n",
    "* longitudes of all data points, collected in a single 1D array `xs`\n",
    "* latitudes of all data points, collected in a single 1D array `ys`\n",
    "* a matrix (2D array) giving temperature values for each pair of coordinates from (`xs` $\\times$ `ys`)\n",
    "\n",
    "However, we only have a list of triples $(longitude, latitude, temperature)$ where longitude and latitude values (taken one by one) can be repeated (see the sample above).  A strategy for data cleaning could then be the following:\n",
    "\n",
    "1. Create sorted arrays of (unique) longitude and latitude values\n",
    "2. Create a 2D matrix for holding temperature values, with dimensions given by the size of the longitude/latitude arrays\n",
    "3. Walk the list of triples and store temperature values in the appropriate slot in the matrix; use a \"placeholder\" value where we do not have any data."
   ]
  },
  {
   "cell_type": "markdown",
   "metadata": {},
   "source": [
    "#### 1. Created sorted arrays of unique longitude/latitude values\n",
    "\n",
    "We can extract a list (with repeated values) of longitudes and latitudes using Python's `zip` function:"
   ]
  },
  {
   "cell_type": "code",
   "execution_count": 36,
   "metadata": {
    "collapsed": true
   },
   "outputs": [],
   "source": [
    "lon, lat, _ = zip(* data)"
   ]
  },
  {
   "cell_type": "markdown",
   "metadata": {},
   "source": [
    "Converting the Python list into a Python `set` removes duplicates:"
   ]
  },
  {
   "cell_type": "code",
   "execution_count": 37,
   "metadata": {
    "collapsed": true
   },
   "outputs": [],
   "source": [
    "lon = set(lon)\n",
    "lat = set(lat)"
   ]
  },
  {
   "cell_type": "markdown",
   "metadata": {},
   "source": [
    "Now we can again convert to a Python `list` and then sort *in-place* to get values in the right format:"
   ]
  },
  {
   "cell_type": "code",
   "execution_count": 38,
   "metadata": {
    "collapsed": true
   },
   "outputs": [],
   "source": [
    "lon = list(lon)\n",
    "lat = list(lat)"
   ]
  },
  {
   "cell_type": "code",
   "execution_count": 39,
   "metadata": {
    "collapsed": true
   },
   "outputs": [],
   "source": [
    "lon.sort()\n",
    "lat.sort()"
   ]
  },
  {
   "cell_type": "markdown",
   "metadata": {},
   "source": [
    "We keep the items in the list into Python's `Decimal` type for reasons that will be clear when building the 2D matrix of temperatures.  (Eventually, we'll convert both arrays to NumPy's `np.array` type, which is better for plotting.)"
   ]
  },
  {
   "cell_type": "code",
   "execution_count": 40,
   "metadata": {
    "collapsed": false
   },
   "outputs": [
    {
     "data": {
      "text/plain": [
       "([Decimal('-170.94039'), Decimal('-166.87923'), Decimal('-166.26217')],\n",
       " [Decimal('7.35503'), Decimal('7.80419'), Decimal('8.25335')])"
      ]
     },
     "execution_count": 40,
     "metadata": {},
     "output_type": "execute_result"
    }
   ],
   "source": [
    "lon[:3], lat[:3]"
   ]
  },
  {
   "cell_type": "markdown",
   "metadata": {},
   "source": [
    "#### 2. Create a 2D matrix for holding temperature values"
   ]
  },
  {
   "cell_type": "markdown",
   "metadata": {},
   "source": [
    "Dimensions of the matrix are given by the number of points in the longitude and latitude arrays, which we can get with Python's `len()` function.\n",
    "\n",
    "Let us store the dimensions into constants for better readability, as they recur over and over in the following code:"
   ]
  },
  {
   "cell_type": "code",
   "execution_count": 41,
   "metadata": {
    "collapsed": true
   },
   "outputs": [],
   "source": [
    "n_lon = len(lon)\n",
    "n_lat = len(lat)"
   ]
  },
  {
   "cell_type": "markdown",
   "metadata": {},
   "source": [
    "The plot has a rectangular shape (hence, a 2D matrix used to hold plot data), but we have only data for points corresponding to land (i.e., in North America, not in the Pacific Ocean).\n",
    "\n",
    "So we need a kind of \"placeholder\" value to mean \"no valid data here\".  The mechanism provided by NumPy (and used by CartoPy) is called a [masked array](https://docs.scipy.org/doc/numpy/reference/generated/numpy.ma.array.html#numpy.ma.array). A masked array is given by a pair of arrays $(D, M)$ having the same *shape*, $D$ is regular data array (of any type), and $M$ is a boolean array: where $M$ holds the value `True`, the corresponding entry in $D$ is excluded from any computation."
   ]
  },
  {
   "cell_type": "markdown",
   "metadata": {},
   "source": [
    "We need to create and fill the data and mask arrays separately, and then combine them into a masked array."
   ]
  },
  {
   "cell_type": "code",
   "execution_count": 42,
   "metadata": {
    "collapsed": false
   },
   "outputs": [],
   "source": [
    "temp_data = np.empty([n_lon, n_lat])\n",
    "temp_mask = np.full(temp_data.shape, True, dtype=np.bool)  # initially, all entries are masked"
   ]
  },
  {
   "cell_type": "markdown",
   "metadata": {},
   "source": [
    "#### 3. Walk the list of triples and store temperature values\n",
    "\n",
    "Now, ideally we would just fill the arrays by browsing the list of triples and setting/unmasking the entry corresponding to the triple.  But: entries in the temperature matrix must be indexed by *index* and the triples store longitude/latitude values.  So we need to: \n",
    "\n",
    "1. look up the indices corresponding to the given longitude/latitude values in the `lon` and `lat` arrays\n",
    "2. set and unmask the entry in the temperature matrix indicated by this pair of indices"
   ]
  },
  {
   "cell_type": "markdown",
   "metadata": {},
   "source": [
    "A way to implement the look up is to use the `.index()` method of Python `list` objects (this is why we didn't convert `lon` and `lat` to NumPy arrays).  However, this is *slow* (why?)"
   ]
  },
  {
   "cell_type": "code",
   "execution_count": null,
   "metadata": {
    "collapsed": false
   },
   "outputs": [],
   "source": [
    "%%time\n",
    "\n",
    "# this is SLOW!\n",
    "for x, y, value in data:\n",
    "    i = lon.index(x)\n",
    "    j = lat.index(y)\n",
    "    temp_data[i, j] = float(value)\n",
    "    temp_mask[i, j] = False"
   ]
  },
  {
   "cell_type": "markdown",
   "metadata": {},
   "source": [
    "A better solution (if memory allows), is to prepare a lookup table beforehand and use that instead of invoking the `.index()` method.  (In addition, this technique would have worked with NumPy arrays as well.)"
   ]
  },
  {
   "cell_type": "code",
   "execution_count": 43,
   "metadata": {
    "collapsed": false
   },
   "outputs": [
    {
     "name": "stdout",
     "output_type": "stream",
     "text": [
      "CPU times: user 340 ms, sys: 0 ns, total: 340 ms\n",
      "Wall time: 341 ms\n"
     ]
    }
   ],
   "source": [
    "%%time\n",
    "\n",
    "lon_to_index = { value:idx for idx, value in enumerate(lon) }\n",
    "lat_to_index = { value:idx for idx, value in enumerate(lat) }\n",
    "\n",
    "# is this faster?\n",
    "for x, y, value in data:\n",
    "    i = lon_to_index[x]\n",
    "    j = lat_to_index[y]\n",
    "    temp_data[i, j] = float(value)\n",
    "    temp_mask[i, j] = False"
   ]
  },
  {
   "cell_type": "markdown",
   "metadata": {},
   "source": [
    "Now function `numpy.ma.array` can be used to build the *masked array* object:"
   ]
  },
  {
   "cell_type": "code",
   "execution_count": 44,
   "metadata": {
    "collapsed": true
   },
   "outputs": [],
   "source": [
    "temp = np.ma.array(temp_data, mask=temp_mask)"
   ]
  },
  {
   "cell_type": "code",
   "execution_count": 45,
   "metadata": {
    "collapsed": false
   },
   "outputs": [
    {
     "data": {
      "text/plain": [
       "masked_array(data =\n",
       " [[-- -- -- ..., -- -- --]\n",
       " [-- -- -- ..., -- -- --]\n",
       " [-- -- -- ..., -- -- --]\n",
       " ..., \n",
       " [-- -- -- ..., -- -- --]\n",
       " [-- -- -- ..., -- -- --]\n",
       " [-- -- -- ..., -- -- --]],\n",
       "             mask =\n",
       " [[ True  True  True ...,  True  True  True]\n",
       " [ True  True  True ...,  True  True  True]\n",
       " [ True  True  True ...,  True  True  True]\n",
       " ..., \n",
       " [ True  True  True ...,  True  True  True]\n",
       " [ True  True  True ...,  True  True  True]\n",
       " [ True  True  True ...,  True  True  True]],\n",
       "       fill_value = 1e+20)"
      ]
     },
     "execution_count": 45,
     "metadata": {},
     "output_type": "execute_result"
    }
   ],
   "source": [
    "temp"
   ]
  },
  {
   "cell_type": "code",
   "execution_count": 46,
   "metadata": {
    "collapsed": false
   },
   "outputs": [
    {
     "data": {
      "text/plain": [
       "(-36.799999999999997, 28.899999999999999)"
      ]
     },
     "execution_count": 46,
     "metadata": {},
     "output_type": "execute_result"
    }
   ],
   "source": [
    "temp.min(), temp.max()"
   ]
  },
  {
   "cell_type": "markdown",
   "metadata": {},
   "source": [
    "### Plotting time!"
   ]
  },
  {
   "cell_type": "markdown",
   "metadata": {},
   "source": [
    "We should now get the list of longitude and latitude coordinates as a NumPy array:"
   ]
  },
  {
   "cell_type": "code",
   "execution_count": 47,
   "metadata": {
    "collapsed": true
   },
   "outputs": [],
   "source": [
    "xs = np.array(lon, dtype=np.float)\n",
    "ys = np.array(lat, dtype=np.float)"
   ]
  },
  {
   "cell_type": "markdown",
   "metadata": {},
   "source": [
    "The `.pcolormesh()` method is used to overlay \"color-coded\" dots on a projected map; it requires three parameters (others influence plotting style):\n",
    "\n",
    "1. array of longitudes\n",
    "2. array of latitudes\n",
    "3. matrix of overlay values, indexed by $(latitude, longitude)$ pairs\n",
    "\n",
    "**Note** that the order of coordinates in the overlay matrix is the reverse of the order of coordinates in the function call; hence the use of `temp.T` (transpose of matrix `temp`) in the following code."
   ]
  },
  {
   "cell_type": "code",
   "execution_count": 48,
   "metadata": {
    "collapsed": false
   },
   "outputs": [
    {
     "name": "stdout",
     "output_type": "stream",
     "text": [
      "CPU times: user 419 ms, sys: 40 ms, total: 459 ms\n",
      "Wall time: 461 ms\n"
     ]
    },
    {
     "name": "stderr",
     "output_type": "stream",
     "text": [
      "/opt/anaconda2/lib/python2.7/site-packages/matplotlib/colors.py:858: RuntimeWarning: invalid value encountered in subtract\n",
      "  resdat -= vmin\n"
     ]
    },
    {
     "data": {
      "image/png": "[encoded data removed]",
      "text/plain": [
       "<matplotlib.figure.Figure at 0x7f92154b6750>"
      ]
     },
     "metadata": {},
     "output_type": "display_data"
    }
   ],
   "source": [
    "%%time\n",
    "\n",
    "# this is a set of predefined colormaps\n",
    "import cmocean\n",
    "cm_thermal = cmocean.cm.thermal\n",
    "\n",
    "ax = plt.subplot(111, projection=plain_crs)\n",
    "ax.set_extent((-180, -40, 5, 90), crs=plain_crs)\n",
    "ax.gridlines(color='lightgrey', linestyle='-')\n",
    "ax.pcolormesh(xs, ys, temp.T, transform=plain_crs, cmap=cm_thermal)\n",
    "ax.coastlines()"
   ]
  }
 ],
 "metadata": {
  "kernelspec": {
   "display_name": "Python 2",
   "language": "python",
   "name": "python2"
  },
  "language_info": {
   "codemirror_mode": {
    "name": "ipython",
    "version": 2
   },
   "file_extension": ".py",
   "mimetype": "text/x-python",
   "name": "python",
   "nbconvert_exporter": "python",
   "pygments_lexer": "ipython2",
   "version": "2.7.13"
  }
 },
 "nbformat": 4,
 "nbformat_minor": 0
}
